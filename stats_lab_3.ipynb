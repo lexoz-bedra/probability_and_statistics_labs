{
  "nbformat": 4,
  "nbformat_minor": 0,
  "metadata": {
    "colab": {
      "provenance": []
    },
    "kernelspec": {
      "name": "python3",
      "display_name": "Python 3"
    },
    "language_info": {
      "name": "python"
    }
  },
  "cells": [
    {
      "cell_type": "markdown",
      "source": [
        "# Вариант 1\n",
        "\n",
        "В файле `sex_bmi_smokers.csv` приведены данные (пол, ИМТ, курит/не курит) о более 1000 испытуемых."
      ],
      "metadata": {
        "id": "IETg8mKPtUqC"
      }
    },
    {
      "cell_type": "markdown",
      "source": [
        "# Задание 1"
      ],
      "metadata": {
        "id": "j9AeaVnntZO8"
      }
    },
    {
      "cell_type": "markdown",
      "source": [
        "С помощью критерия согласия Пирсона хи-квадрат проверить согласованность индекса массы тела с нормальным законом (формализовать  основные и альтернативные гипотезы, **реализовать самостоятельно**). Ту же самую задачу решить с помощью другого критерия (тоже формализовать гипотезы, но здесь можно воспользоваться готовой *реализацией*)."
      ],
      "metadata": {
        "id": "kef5Lpi7oGpv"
      }
    },
    {
      "cell_type": "markdown",
      "source": [
        "## Считывание данных"
      ],
      "metadata": {
        "id": "c_VhhMnG0qFV"
      }
    },
    {
      "cell_type": "code",
      "source": [
        "import pandas as pd\n",
        "import numpy as np\n",
        "\n",
        "import scipy.stats\n",
        "from scipy.stats import chi2, normaltest, chisquare, norm\n",
        "from scipy.stats import fisher_exact"
      ],
      "metadata": {
        "id": "oDrs-6lkxoIV"
      },
      "execution_count": null,
      "outputs": []
    },
    {
      "cell_type": "code",
      "source": [
        "!wget -O /content/sex_bmi_smokers.csv 'https://drive.google.com/uc?id=1gzPRqj7gZetjsipo3xpogYGL76enZDNO'"
      ],
      "metadata": {
        "colab": {
          "base_uri": "https://localhost:8080/"
        },
        "id": "jn6CQbHax4RQ",
        "outputId": "14dde8f8-3e61-4ea1-8e18-180ba097e5e1"
      },
      "execution_count": null,
      "outputs": [
        {
          "output_type": "stream",
          "name": "stdout",
          "text": [
            "--2024-05-27 10:55:16--  https://drive.google.com/uc?id=1gzPRqj7gZetjsipo3xpogYGL76enZDNO\n",
            "Resolving drive.google.com (drive.google.com)... 172.217.204.102, 172.217.204.139, 172.217.204.138, ...\n",
            "Connecting to drive.google.com (drive.google.com)|172.217.204.102|:443... connected.\n",
            "HTTP request sent, awaiting response... 303 See Other\n",
            "Location: https://drive.usercontent.google.com/download?id=1gzPRqj7gZetjsipo3xpogYGL76enZDNO [following]\n",
            "--2024-05-27 10:55:16--  https://drive.usercontent.google.com/download?id=1gzPRqj7gZetjsipo3xpogYGL76enZDNO\n",
            "Resolving drive.usercontent.google.com (drive.usercontent.google.com)... 74.125.26.132, 2607:f8b0:400c:c04::84\n",
            "Connecting to drive.usercontent.google.com (drive.usercontent.google.com)|74.125.26.132|:443... connected.\n",
            "HTTP request sent, awaiting response... 200 OK\n",
            "Length: 26902 (26K) [application/octet-stream]\n",
            "Saving to: ‘/content/sex_bmi_smokers.csv’\n",
            "\n",
            "/content/sex_bmi_sm 100%[===================>]  26.27K  --.-KB/s    in 0s      \n",
            "\n",
            "2024-05-27 10:55:16 (57.9 MB/s) - ‘/content/sex_bmi_smokers.csv’ saved [26902/26902]\n",
            "\n"
          ]
        }
      ]
    },
    {
      "cell_type": "code",
      "source": [
        "data = pd.read_csv('/content/sex_bmi_smokers.csv')"
      ],
      "metadata": {
        "id": "CD33sHceysRH"
      },
      "execution_count": null,
      "outputs": []
    },
    {
      "cell_type": "code",
      "source": [
        "data.sample(5)"
      ],
      "metadata": {
        "colab": {
          "base_uri": "https://localhost:8080/",
          "height": 206
        },
        "id": "10U3MfujywYs",
        "outputId": "b9c135a2-eed3-4e6e-97d6-ba2e1082aa07"
      },
      "execution_count": null,
      "outputs": [
        {
          "output_type": "execute_result",
          "data": {
            "text/plain": [
              "         sex     bmi smoker\n",
              "594     male  40.260     no\n",
              "457   female  30.495     no\n",
              "1333    male  30.970     no\n",
              "1096  female  34.960    yes\n",
              "454     male  46.530     no"
            ],
            "text/html": [
              "\n",
              "  <div id=\"df-45f29bf6-abaf-4a22-b97f-5b40ab750d49\" class=\"colab-df-container\">\n",
              "    <div>\n",
              "<style scoped>\n",
              "    .dataframe tbody tr th:only-of-type {\n",
              "        vertical-align: middle;\n",
              "    }\n",
              "\n",
              "    .dataframe tbody tr th {\n",
              "        vertical-align: top;\n",
              "    }\n",
              "\n",
              "    .dataframe thead th {\n",
              "        text-align: right;\n",
              "    }\n",
              "</style>\n",
              "<table border=\"1\" class=\"dataframe\">\n",
              "  <thead>\n",
              "    <tr style=\"text-align: right;\">\n",
              "      <th></th>\n",
              "      <th>sex</th>\n",
              "      <th>bmi</th>\n",
              "      <th>smoker</th>\n",
              "    </tr>\n",
              "  </thead>\n",
              "  <tbody>\n",
              "    <tr>\n",
              "      <th>594</th>\n",
              "      <td>male</td>\n",
              "      <td>40.260</td>\n",
              "      <td>no</td>\n",
              "    </tr>\n",
              "    <tr>\n",
              "      <th>457</th>\n",
              "      <td>female</td>\n",
              "      <td>30.495</td>\n",
              "      <td>no</td>\n",
              "    </tr>\n",
              "    <tr>\n",
              "      <th>1333</th>\n",
              "      <td>male</td>\n",
              "      <td>30.970</td>\n",
              "      <td>no</td>\n",
              "    </tr>\n",
              "    <tr>\n",
              "      <th>1096</th>\n",
              "      <td>female</td>\n",
              "      <td>34.960</td>\n",
              "      <td>yes</td>\n",
              "    </tr>\n",
              "    <tr>\n",
              "      <th>454</th>\n",
              "      <td>male</td>\n",
              "      <td>46.530</td>\n",
              "      <td>no</td>\n",
              "    </tr>\n",
              "  </tbody>\n",
              "</table>\n",
              "</div>\n",
              "    <div class=\"colab-df-buttons\">\n",
              "\n",
              "  <div class=\"colab-df-container\">\n",
              "    <button class=\"colab-df-convert\" onclick=\"convertToInteractive('df-45f29bf6-abaf-4a22-b97f-5b40ab750d49')\"\n",
              "            title=\"Convert this dataframe to an interactive table.\"\n",
              "            style=\"display:none;\">\n",
              "\n",
              "  <svg xmlns=\"http://www.w3.org/2000/svg\" height=\"24px\" viewBox=\"0 -960 960 960\">\n",
              "    <path d=\"M120-120v-720h720v720H120Zm60-500h600v-160H180v160Zm220 220h160v-160H400v160Zm0 220h160v-160H400v160ZM180-400h160v-160H180v160Zm440 0h160v-160H620v160ZM180-180h160v-160H180v160Zm440 0h160v-160H620v160Z\"/>\n",
              "  </svg>\n",
              "    </button>\n",
              "\n",
              "  <style>\n",
              "    .colab-df-container {\n",
              "      display:flex;\n",
              "      gap: 12px;\n",
              "    }\n",
              "\n",
              "    .colab-df-convert {\n",
              "      background-color: #E8F0FE;\n",
              "      border: none;\n",
              "      border-radius: 50%;\n",
              "      cursor: pointer;\n",
              "      display: none;\n",
              "      fill: #1967D2;\n",
              "      height: 32px;\n",
              "      padding: 0 0 0 0;\n",
              "      width: 32px;\n",
              "    }\n",
              "\n",
              "    .colab-df-convert:hover {\n",
              "      background-color: #E2EBFA;\n",
              "      box-shadow: 0px 1px 2px rgba(60, 64, 67, 0.3), 0px 1px 3px 1px rgba(60, 64, 67, 0.15);\n",
              "      fill: #174EA6;\n",
              "    }\n",
              "\n",
              "    .colab-df-buttons div {\n",
              "      margin-bottom: 4px;\n",
              "    }\n",
              "\n",
              "    [theme=dark] .colab-df-convert {\n",
              "      background-color: #3B4455;\n",
              "      fill: #D2E3FC;\n",
              "    }\n",
              "\n",
              "    [theme=dark] .colab-df-convert:hover {\n",
              "      background-color: #434B5C;\n",
              "      box-shadow: 0px 1px 3px 1px rgba(0, 0, 0, 0.15);\n",
              "      filter: drop-shadow(0px 1px 2px rgba(0, 0, 0, 0.3));\n",
              "      fill: #FFFFFF;\n",
              "    }\n",
              "  </style>\n",
              "\n",
              "    <script>\n",
              "      const buttonEl =\n",
              "        document.querySelector('#df-45f29bf6-abaf-4a22-b97f-5b40ab750d49 button.colab-df-convert');\n",
              "      buttonEl.style.display =\n",
              "        google.colab.kernel.accessAllowed ? 'block' : 'none';\n",
              "\n",
              "      async function convertToInteractive(key) {\n",
              "        const element = document.querySelector('#df-45f29bf6-abaf-4a22-b97f-5b40ab750d49');\n",
              "        const dataTable =\n",
              "          await google.colab.kernel.invokeFunction('convertToInteractive',\n",
              "                                                    [key], {});\n",
              "        if (!dataTable) return;\n",
              "\n",
              "        const docLinkHtml = 'Like what you see? Visit the ' +\n",
              "          '<a target=\"_blank\" href=https://colab.research.google.com/notebooks/data_table.ipynb>data table notebook</a>'\n",
              "          + ' to learn more about interactive tables.';\n",
              "        element.innerHTML = '';\n",
              "        dataTable['output_type'] = 'display_data';\n",
              "        await google.colab.output.renderOutput(dataTable, element);\n",
              "        const docLink = document.createElement('div');\n",
              "        docLink.innerHTML = docLinkHtml;\n",
              "        element.appendChild(docLink);\n",
              "      }\n",
              "    </script>\n",
              "  </div>\n",
              "\n",
              "\n",
              "<div id=\"df-d9c3541e-9575-40ce-b9cc-b144accca3f0\">\n",
              "  <button class=\"colab-df-quickchart\" onclick=\"quickchart('df-d9c3541e-9575-40ce-b9cc-b144accca3f0')\"\n",
              "            title=\"Suggest charts\"\n",
              "            style=\"display:none;\">\n",
              "\n",
              "<svg xmlns=\"http://www.w3.org/2000/svg\" height=\"24px\"viewBox=\"0 0 24 24\"\n",
              "     width=\"24px\">\n",
              "    <g>\n",
              "        <path d=\"M19 3H5c-1.1 0-2 .9-2 2v14c0 1.1.9 2 2 2h14c1.1 0 2-.9 2-2V5c0-1.1-.9-2-2-2zM9 17H7v-7h2v7zm4 0h-2V7h2v10zm4 0h-2v-4h2v4z\"/>\n",
              "    </g>\n",
              "</svg>\n",
              "  </button>\n",
              "\n",
              "<style>\n",
              "  .colab-df-quickchart {\n",
              "      --bg-color: #E8F0FE;\n",
              "      --fill-color: #1967D2;\n",
              "      --hover-bg-color: #E2EBFA;\n",
              "      --hover-fill-color: #174EA6;\n",
              "      --disabled-fill-color: #AAA;\n",
              "      --disabled-bg-color: #DDD;\n",
              "  }\n",
              "\n",
              "  [theme=dark] .colab-df-quickchart {\n",
              "      --bg-color: #3B4455;\n",
              "      --fill-color: #D2E3FC;\n",
              "      --hover-bg-color: #434B5C;\n",
              "      --hover-fill-color: #FFFFFF;\n",
              "      --disabled-bg-color: #3B4455;\n",
              "      --disabled-fill-color: #666;\n",
              "  }\n",
              "\n",
              "  .colab-df-quickchart {\n",
              "    background-color: var(--bg-color);\n",
              "    border: none;\n",
              "    border-radius: 50%;\n",
              "    cursor: pointer;\n",
              "    display: none;\n",
              "    fill: var(--fill-color);\n",
              "    height: 32px;\n",
              "    padding: 0;\n",
              "    width: 32px;\n",
              "  }\n",
              "\n",
              "  .colab-df-quickchart:hover {\n",
              "    background-color: var(--hover-bg-color);\n",
              "    box-shadow: 0 1px 2px rgba(60, 64, 67, 0.3), 0 1px 3px 1px rgba(60, 64, 67, 0.15);\n",
              "    fill: var(--button-hover-fill-color);\n",
              "  }\n",
              "\n",
              "  .colab-df-quickchart-complete:disabled,\n",
              "  .colab-df-quickchart-complete:disabled:hover {\n",
              "    background-color: var(--disabled-bg-color);\n",
              "    fill: var(--disabled-fill-color);\n",
              "    box-shadow: none;\n",
              "  }\n",
              "\n",
              "  .colab-df-spinner {\n",
              "    border: 2px solid var(--fill-color);\n",
              "    border-color: transparent;\n",
              "    border-bottom-color: var(--fill-color);\n",
              "    animation:\n",
              "      spin 1s steps(1) infinite;\n",
              "  }\n",
              "\n",
              "  @keyframes spin {\n",
              "    0% {\n",
              "      border-color: transparent;\n",
              "      border-bottom-color: var(--fill-color);\n",
              "      border-left-color: var(--fill-color);\n",
              "    }\n",
              "    20% {\n",
              "      border-color: transparent;\n",
              "      border-left-color: var(--fill-color);\n",
              "      border-top-color: var(--fill-color);\n",
              "    }\n",
              "    30% {\n",
              "      border-color: transparent;\n",
              "      border-left-color: var(--fill-color);\n",
              "      border-top-color: var(--fill-color);\n",
              "      border-right-color: var(--fill-color);\n",
              "    }\n",
              "    40% {\n",
              "      border-color: transparent;\n",
              "      border-right-color: var(--fill-color);\n",
              "      border-top-color: var(--fill-color);\n",
              "    }\n",
              "    60% {\n",
              "      border-color: transparent;\n",
              "      border-right-color: var(--fill-color);\n",
              "    }\n",
              "    80% {\n",
              "      border-color: transparent;\n",
              "      border-right-color: var(--fill-color);\n",
              "      border-bottom-color: var(--fill-color);\n",
              "    }\n",
              "    90% {\n",
              "      border-color: transparent;\n",
              "      border-bottom-color: var(--fill-color);\n",
              "    }\n",
              "  }\n",
              "</style>\n",
              "\n",
              "  <script>\n",
              "    async function quickchart(key) {\n",
              "      const quickchartButtonEl =\n",
              "        document.querySelector('#' + key + ' button');\n",
              "      quickchartButtonEl.disabled = true;  // To prevent multiple clicks.\n",
              "      quickchartButtonEl.classList.add('colab-df-spinner');\n",
              "      try {\n",
              "        const charts = await google.colab.kernel.invokeFunction(\n",
              "            'suggestCharts', [key], {});\n",
              "      } catch (error) {\n",
              "        console.error('Error during call to suggestCharts:', error);\n",
              "      }\n",
              "      quickchartButtonEl.classList.remove('colab-df-spinner');\n",
              "      quickchartButtonEl.classList.add('colab-df-quickchart-complete');\n",
              "    }\n",
              "    (() => {\n",
              "      let quickchartButtonEl =\n",
              "        document.querySelector('#df-d9c3541e-9575-40ce-b9cc-b144accca3f0 button');\n",
              "      quickchartButtonEl.style.display =\n",
              "        google.colab.kernel.accessAllowed ? 'block' : 'none';\n",
              "    })();\n",
              "  </script>\n",
              "</div>\n",
              "    </div>\n",
              "  </div>\n"
            ],
            "application/vnd.google.colaboratory.intrinsic+json": {
              "type": "dataframe",
              "summary": "{\n  \"name\": \"data\",\n  \"rows\": 5,\n  \"fields\": [\n    {\n      \"column\": \"sex\",\n      \"properties\": {\n        \"dtype\": \"category\",\n        \"num_unique_values\": 2,\n        \"samples\": [\n          \"female\",\n          \"male\"\n        ],\n        \"semantic_type\": \"\",\n        \"description\": \"\"\n      }\n    },\n    {\n      \"column\": \"bmi\",\n      \"properties\": {\n        \"dtype\": \"number\",\n        \"std\": 6.7758538207372805,\n        \"min\": 30.495,\n        \"max\": 46.53,\n        \"num_unique_values\": 5,\n        \"samples\": [\n          30.495,\n          46.53\n        ],\n        \"semantic_type\": \"\",\n        \"description\": \"\"\n      }\n    },\n    {\n      \"column\": \"smoker\",\n      \"properties\": {\n        \"dtype\": \"category\",\n        \"num_unique_values\": 2,\n        \"samples\": [\n          \"yes\",\n          \"no\"\n        ],\n        \"semantic_type\": \"\",\n        \"description\": \"\"\n      }\n    }\n  ]\n}"
            }
          },
          "metadata": {},
          "execution_count": 4
        }
      ]
    },
    {
      "cell_type": "code",
      "source": [
        "data.nunique()"
      ],
      "metadata": {
        "id": "Uevwuv0_ziYY",
        "outputId": "727cfd66-f08c-44ee-8cbb-c0ef0d300bf7",
        "colab": {
          "base_uri": "https://localhost:8080/"
        }
      },
      "execution_count": null,
      "outputs": [
        {
          "output_type": "execute_result",
          "data": {
            "text/plain": [
              "sex         2\n",
              "bmi       548\n",
              "smoker      2\n",
              "dtype: int64"
            ]
          },
          "metadata": {},
          "execution_count": 5
        }
      ]
    },
    {
      "cell_type": "markdown",
      "source": [
        "## Решение задачи"
      ],
      "metadata": {
        "id": "RUeZHeCR04EQ"
      }
    },
    {
      "cell_type": "markdown",
      "source": [
        "Формализуем гипотезы\n",
        "\n",
        "*   нулевая гипотеза $H_0$ - ИМТ согласован с нормальным законом\n",
        "*   альтернативная гипотеза $H_1$ - ИМТ не согласован с нормальным законом.\n",
        "\n"
      ],
      "metadata": {
        "id": "rY34tpPIyzZe"
      }
    },
    {
      "cell_type": "markdown",
      "source": [
        "### Критерий согласия Пирсона хи-квадрат"
      ],
      "metadata": {
        "id": "TG4iN-5Pa7Mn"
      }
    },
    {
      "cell_type": "code",
      "source": [
        "bmi_data = np.array(data['bmi'])\n",
        "edges = np.linspace(bmi_data.min(), bmi_data.max(), 6)\n",
        "\n",
        "binned_data = np.histogram(bmi_data, bins=edges)\n",
        "observed_freq = binned_data[0]\n",
        "\n",
        "print(edges)\n",
        "print(binned_data[0])"
      ],
      "metadata": {
        "colab": {
          "base_uri": "https://localhost:8080/"
        },
        "id": "MP5pbQDnowno",
        "outputId": "d518a485-60d1-4f9f-cb46-947e399ccba5"
      },
      "execution_count": null,
      "outputs": [
        {
          "output_type": "stream",
          "name": "stdout",
          "text": [
            "[15.96  23.394 30.828 38.262 45.696 53.13 ]\n",
            "[157 553 483 128  17]\n"
          ]
        }
      ]
    },
    {
      "cell_type": "code",
      "source": [
        "bmi_data = np.array(data['bmi'])\n",
        "edges = [0, 18.5, 24.9, 29.9, float('inf')]\n",
        "\n",
        "binned_data = np.histogram(bmi_data, bins=edges)\n",
        "observed_freq = binned_data[0]\n",
        "\n",
        "print(edges)\n",
        "print(binned_data[0])"
      ],
      "metadata": {
        "colab": {
          "base_uri": "https://localhost:8080/"
        },
        "id": "lm5_7NHmEJl4",
        "outputId": "55c42090-db5c-4d80-ef09-8cb4551031e0"
      },
      "execution_count": null,
      "outputs": [
        {
          "output_type": "stream",
          "name": "stdout",
          "text": [
            "[0, 18.5, 24.9, 29.9, inf]\n",
            "[ 20 222 377 719]\n"
          ]
        }
      ]
    },
    {
      "cell_type": "code",
      "source": [
        "mean = np.mean(bmi_data)\n",
        "std = np.std(bmi_data)\n",
        "mean, std"
      ],
      "metadata": {
        "colab": {
          "base_uri": "https://localhost:8080/"
        },
        "id": "YpS7AKHVrund",
        "outputId": "4f7163a4-778d-4cc7-c00d-cda188a5b3bd"
      },
      "execution_count": null,
      "outputs": [
        {
          "output_type": "execute_result",
          "data": {
            "text/plain": [
              "(30.66339686098655, 6.0959076415894256)"
            ]
          },
          "metadata": {},
          "execution_count": 8
        }
      ]
    },
    {
      "cell_type": "code",
      "source": [
        "expected_freq = np.array([norm.cdf(edges[i+1], loc=mean, scale=std) - norm.cdf(edges[i], loc=mean, scale=std)\n",
        "for i in range(len(edges)-1)]) * len(bmi_data)"
      ],
      "metadata": {
        "id": "6Lw6RrBEBxxP"
      },
      "execution_count": null,
      "outputs": []
    },
    {
      "cell_type": "code",
      "source": [],
      "metadata": {
        "id": "2ZhryvYnCPUg"
      },
      "execution_count": null,
      "outputs": []
    },
    {
      "cell_type": "code",
      "source": [],
      "metadata": {
        "id": "GeXLjYPiTnFM"
      },
      "execution_count": null,
      "outputs": []
    },
    {
      "cell_type": "code",
      "source": [
        "observed_freq"
      ],
      "metadata": {
        "colab": {
          "base_uri": "https://localhost:8080/"
        },
        "id": "drA0xTI0DNLE",
        "outputId": "7bf47203-92e3-4e36-dfe8-efd023ae17d4"
      },
      "execution_count": null,
      "outputs": [
        {
          "output_type": "execute_result",
          "data": {
            "text/plain": [
              "array([ 20, 222, 377, 719])"
            ]
          },
          "metadata": {},
          "execution_count": 10
        }
      ]
    },
    {
      "cell_type": "code",
      "source": [
        "scipy.stats.chisquare(f_obs=observed_freq, f_exp=expected_freq)"
      ],
      "metadata": {
        "colab": {
          "base_uri": "https://localhost:8080/",
          "height": 321
        },
        "id": "tVmFe1_FChGl",
        "outputId": "d3ae679e-e6eb-4496-839b-8675c4db7a49"
      },
      "execution_count": null,
      "outputs": [
        {
          "output_type": "error",
          "ename": "ValueError",
          "evalue": "For each axis slice, the sum of the observed frequencies must agree with the sum of the expected frequencies to a relative tolerance of 1e-08, but the percent differences are:\n2.4503413706719967e-07",
          "traceback": [
            "\u001b[0;31m---------------------------------------------------------------------------\u001b[0m",
            "\u001b[0;31mValueError\u001b[0m                                Traceback (most recent call last)",
            "\u001b[0;32m<ipython-input-11-44ce8b98ae47>\u001b[0m in \u001b[0;36m<cell line: 1>\u001b[0;34m()\u001b[0m\n\u001b[0;32m----> 1\u001b[0;31m \u001b[0mscipy\u001b[0m\u001b[0;34m.\u001b[0m\u001b[0mstats\u001b[0m\u001b[0;34m.\u001b[0m\u001b[0mchisquare\u001b[0m\u001b[0;34m(\u001b[0m\u001b[0mf_obs\u001b[0m\u001b[0;34m=\u001b[0m\u001b[0mobserved_freq\u001b[0m\u001b[0;34m,\u001b[0m \u001b[0mf_exp\u001b[0m\u001b[0;34m=\u001b[0m\u001b[0mexpected_freq\u001b[0m\u001b[0;34m)\u001b[0m\u001b[0;34m\u001b[0m\u001b[0;34m\u001b[0m\u001b[0m\n\u001b[0m",
            "\u001b[0;32m/usr/local/lib/python3.10/dist-packages/scipy/stats/_stats_py.py\u001b[0m in \u001b[0;36mchisquare\u001b[0;34m(f_obs, f_exp, ddof, axis)\u001b[0m\n\u001b[1;32m   8252\u001b[0m \u001b[0;34m\u001b[0m\u001b[0m\n\u001b[1;32m   8253\u001b[0m     \"\"\"  # noqa\n\u001b[0;32m-> 8254\u001b[0;31m     return power_divergence(f_obs, f_exp=f_exp, ddof=ddof, axis=axis,\n\u001b[0m\u001b[1;32m   8255\u001b[0m                             lambda_=\"pearson\")\n\u001b[1;32m   8256\u001b[0m \u001b[0;34m\u001b[0m\u001b[0m\n",
            "\u001b[0;32m/usr/local/lib/python3.10/dist-packages/scipy/stats/_stats_py.py\u001b[0m in \u001b[0;36mpower_divergence\u001b[0;34m(f_obs, f_exp, ddof, axis, lambda_)\u001b[0m\n\u001b[1;32m   8049\u001b[0m                    \u001b[0;34mf\"of {rtol}, but the percent differences are:\\n\"\u001b[0m\u001b[0;34m\u001b[0m\u001b[0;34m\u001b[0m\u001b[0m\n\u001b[1;32m   8050\u001b[0m                    f\"{relative_diff}\")\n\u001b[0;32m-> 8051\u001b[0;31m             \u001b[0;32mraise\u001b[0m \u001b[0mValueError\u001b[0m\u001b[0;34m(\u001b[0m\u001b[0mmsg\u001b[0m\u001b[0;34m)\u001b[0m\u001b[0;34m\u001b[0m\u001b[0;34m\u001b[0m\u001b[0m\n\u001b[0m\u001b[1;32m   8052\u001b[0m \u001b[0;34m\u001b[0m\u001b[0m\n\u001b[1;32m   8053\u001b[0m     \u001b[0;32melse\u001b[0m\u001b[0;34m:\u001b[0m\u001b[0;34m\u001b[0m\u001b[0;34m\u001b[0m\u001b[0m\n",
            "\u001b[0;31mValueError\u001b[0m: For each axis slice, the sum of the observed frequencies must agree with the sum of the expected frequencies to a relative tolerance of 1e-08, but the percent differences are:\n2.4503413706719967e-07"
          ]
        }
      ]
    },
    {
      "cell_type": "code",
      "source": [
        "stat, p = scipy.stats.normaltest(data['bmi'])\n",
        "print('Statistics=%.3f, p-value=%.5f' % (stat, p))"
      ],
      "metadata": {
        "id": "0b5uhvzD3jkD"
      },
      "execution_count": null,
      "outputs": []
    },
    {
      "cell_type": "markdown",
      "source": [
        "### Критерий согласия Колмогорова-Смирнова"
      ],
      "metadata": {
        "id": "VBi9MfgexdZ1"
      }
    },
    {
      "cell_type": "code",
      "source": [
        "stat, p = scipy.stats.kstest(data['bmi'], 'norm', args = (mean, std))\n",
        "print('Statistics=%.3f, p-value=%.5f' % (stat, p))"
      ],
      "metadata": {
        "colab": {
          "base_uri": "https://localhost:8080/"
        },
        "id": "QuWtu9Rmxkr1",
        "outputId": "59d3863b-7c6f-433e-9a16-d5766f7ac1ed"
      },
      "execution_count": null,
      "outputs": [
        {
          "output_type": "stream",
          "name": "stdout",
          "text": [
            "Statistics=0.026, p-value=0.31454\n"
          ]
        }
      ]
    },
    {
      "cell_type": "markdown",
      "source": [
        "Вывод: нулевая гипотеза отвергнута(?).\n",
        "\n",
        "жалко её("
      ],
      "metadata": {
        "id": "D6bQ0HY00MDg"
      }
    },
    {
      "cell_type": "markdown",
      "source": [
        "# Задание 2"
      ],
      "metadata": {
        "id": "CJXZ0lqVthb_"
      }
    },
    {
      "cell_type": "markdown",
      "source": [
        "С помощью критерия однородности хи-квадрат проверить однородность индекса массы тела курящих и некурящих (формализовать $H_0$ и $H_1$, **реализовать самостоятельно**). Ту же самую задачу решить с помощью другого критерия (тоже формализовать гипотезы, но здесь можно воспользоваться готовой *реализацией*)."
      ],
      "metadata": {
        "id": "UP_SRGFJtlVv"
      }
    },
    {
      "cell_type": "markdown",
      "source": [
        "## Решение задачи"
      ],
      "metadata": {
        "id": "mpb1QQoPO35I"
      }
    },
    {
      "cell_type": "markdown",
      "source": [
        "Формализуем гипотезы\n",
        "\n",
        "*   нулевая гипотеза $H_0$ - ИМТ курящих и некурящих однородный (у них одинаковое распределение)\n",
        "*   альтернативная гипотеза $H_1$ - ИМТ курящих и некурящих неоднородный (их распределения отличаются).\n"
      ],
      "metadata": {
        "id": "6bIPJT0bTrXN"
      }
    },
    {
      "cell_type": "markdown",
      "source": [
        "### Критерий однородности хи-квадрат"
      ],
      "metadata": {
        "id": "6xJ_8DKcUhb9"
      }
    },
    {
      "cell_type": "code",
      "source": [
        "bins = [0, 18.5, 24.9, 29.9, float('inf')]\n",
        "labels = ['Underweight', 'Normal', 'Overweight', 'Obese']\n",
        "data['bmi_category'] = pd.cut(data['bmi'], bins=bins, labels=labels)\n",
        "data.drop(columns=['bmi'], inplace=True)"
      ],
      "metadata": {
        "id": "BYdgWhDPVBg6"
      },
      "execution_count": null,
      "outputs": []
    },
    {
      "cell_type": "code",
      "source": [
        "contingency_table = create_contingency_table(data, 'sex', 'bmi_category')"
      ],
      "metadata": {
        "id": "udJI3A3Sf5lb"
      },
      "execution_count": null,
      "outputs": []
    },
    {
      "cell_type": "code",
      "source": [
        "totals = count_totals(contingency_table)\n",
        "chi2_value = count_chi2(totals, contingency_table)\n",
        "\n",
        "print(f\"Chi2: {chi2_value}\")"
      ],
      "metadata": {
        "colab": {
          "base_uri": "https://localhost:8080/"
        },
        "id": "GTPY6LHgqqWk",
        "outputId": "9257d1b0-8283-4c82-8f96-b63c9ff4f29a"
      },
      "execution_count": null,
      "outputs": [
        {
          "output_type": "stream",
          "name": "stdout",
          "text": [
            "Chi2: 2.8830932416639667\n"
          ]
        }
      ]
    },
    {
      "cell_type": "code",
      "source": [
        "p_value = count_p_value(totals, chi2_value)\n",
        "\n",
        "print(f\"p-value: {p_value}\")"
      ],
      "metadata": {
        "colab": {
          "base_uri": "https://localhost:8080/"
        },
        "id": "HjrmKZCQq47_",
        "outputId": "931f03ed-df8f-49d4-ecfd-91c5e6b785ef"
      },
      "execution_count": null,
      "outputs": [
        {
          "output_type": "stream",
          "name": "stdout",
          "text": [
            "p-value: 0.4100033122040875\n"
          ]
        }
      ]
    },
    {
      "cell_type": "markdown",
      "source": [
        "Гипотеза не опровергнута."
      ],
      "metadata": {
        "id": "UhiOURlUsUP-"
      }
    },
    {
      "cell_type": "markdown",
      "source": [
        "### Критерий однородности Колмогорова-Смирнова"
      ],
      "metadata": {
        "id": "GKI0Lx9fYBNs"
      }
    },
    {
      "cell_type": "code",
      "source": [
        "data = pd.read_csv('/content/sex_bmi_smokers.csv')"
      ],
      "metadata": {
        "id": "Ncv5HDros5uZ"
      },
      "execution_count": null,
      "outputs": []
    },
    {
      "cell_type": "code",
      "source": [
        "stat, p = scipy.stats.kstest(data[data['smoker'] == 'no']['bmi'], data[data['smoker'] == 'yes']['bmi'])\n",
        "print('Statistics=%.3f, p-value=%.5f' % (stat, p))"
      ],
      "metadata": {
        "id": "IVSF7LRiar1g",
        "colab": {
          "base_uri": "https://localhost:8080/"
        },
        "outputId": "b7dfa8e3-de8a-42c3-98fb-865c9b9cbc6b"
      },
      "execution_count": null,
      "outputs": [
        {
          "output_type": "stream",
          "name": "stdout",
          "text": [
            "Statistics=0.051, p-value=0.61057\n"
          ]
        }
      ]
    },
    {
      "cell_type": "markdown",
      "source": [
        "Гипотеза не отвергнута."
      ],
      "metadata": {
        "id": "sTwIE9lJtH79"
      }
    },
    {
      "cell_type": "markdown",
      "source": [
        "# Задание 3"
      ],
      "metadata": {
        "id": "LPJ_TCsjtQTe"
      }
    },
    {
      "cell_type": "markdown",
      "source": [
        "С помощью критерия независимости хи-квадрат проверить независимость индекса массы тела и пола (формализовать $H_0$ и $H_1$, **реализовать самостоятельно**). Ту же самую задачу решить с помощью другого критерия (тоже формализовать гипотезы, но здесь можно воспользоваться готовой *реализацией*)."
      ],
      "metadata": {
        "id": "q0bvxbEfw8Dv"
      }
    },
    {
      "cell_type": "markdown",
      "source": [
        "## Решение"
      ],
      "metadata": {
        "id": "xfhrBckW1uNz"
      }
    },
    {
      "cell_type": "markdown",
      "source": [
        "Формализуем гипотезы\n",
        "\n",
        "*   нулевая гипотеза $H_0$ - ИМТ и пол независимы\n",
        "*   альтернативная гипотеза $H_1$ - между ИМТ и полом существует зависимость"
      ],
      "metadata": {
        "id": "F0W29Sww1w7U"
      }
    },
    {
      "cell_type": "markdown",
      "source": [
        "### Критерий независимости хи-квадрат"
      ],
      "metadata": {
        "id": "suIxisvJQDJA"
      }
    },
    {
      "cell_type": "code",
      "source": [
        "# считаем данные заново на случай, если они были преобразованы в других заданиях\n",
        "data = pd.read_csv('/content/sex_bmi_smokers.csv')"
      ],
      "metadata": {
        "id": "QuIi1rfyHwC9"
      },
      "execution_count": null,
      "outputs": []
    },
    {
      "cell_type": "code",
      "source": [
        "data.nunique()"
      ],
      "metadata": {
        "id": "7BLHn693HLyd"
      },
      "execution_count": null,
      "outputs": []
    },
    {
      "cell_type": "markdown",
      "source": [
        "Значений BMI очень много, у нас будет слишком большая матрица (наверное, в этом нет необходимости). Поделим BMI на категории поменьше."
      ],
      "metadata": {
        "id": "JWtWQoMkHM46"
      }
    },
    {
      "cell_type": "markdown",
      "source": [
        "#### Решение с категоризацией BMI"
      ],
      "metadata": {
        "id": "AOK0VjW9SOls"
      }
    },
    {
      "cell_type": "code",
      "source": [
        "bins = [0, 18.5, 24.9, 29.9, float('inf')]\n",
        "labels = ['Underweight', 'Normal', 'Overweight', 'Obese']\n",
        "data['bmi_category'] = pd.cut(data['bmi'], bins=bins, labels=labels)\n",
        "data.drop(columns=['bmi'], inplace=True)"
      ],
      "metadata": {
        "id": "IQ4O8uH8HacC"
      },
      "execution_count": null,
      "outputs": []
    },
    {
      "cell_type": "code",
      "source": [
        "data.sample(5)"
      ],
      "metadata": {
        "id": "eGHheF4nJWuF"
      },
      "execution_count": null,
      "outputs": []
    },
    {
      "cell_type": "markdown",
      "source": [
        "Теперь создадим таблицу сопряжённости и посчитаем хи-квадрат."
      ],
      "metadata": {
        "id": "BZiXrB5wH5-s"
      }
    },
    {
      "cell_type": "code",
      "source": [
        "# функция для создания таблицы сопряжённости\n",
        "def create_contingency_table(data, col_1, col_2):\n",
        "  contingency_table = pd.crosstab(data[col_1], data[col_2])\n",
        "\n",
        "  return contingency_table\n",
        "\n",
        "\n",
        "# функция для подсчёта сумм по строкам, столбцам и всей таблице\n",
        "def count_totals(contingency_table):\n",
        "  row_totals = contingency_table.sum(axis=1).values\n",
        "  col_totals = contingency_table.sum(axis=0).values\n",
        "  total = contingency_table.values.sum()\n",
        "\n",
        "  return row_totals, col_totals, total\n",
        "\n",
        "\n",
        "# функция для подсчёта хи-квадрат\n",
        "def count_chi2(totals, contingency_table):\n",
        "  row_totals, col_totals, total = totals\n",
        "  expected_frequencies = np.outer(row_totals, col_totals) / total\n",
        "  chi2_value = ((contingency_table.values - expected_frequencies) ** 2 / expected_frequencies).sum()\n",
        "\n",
        "  return chi2_value\n",
        "\n",
        "\n",
        "# функция для подсчёта p-value\n",
        "def count_p_value(totals, chi2_value):\n",
        "  row_totals, col_totals, _ = totals\n",
        "  # степени свободы\n",
        "  dof = (len(row_totals) - 1) * (len(col_totals) - 1)\n",
        "  # я позволила себе шалость и взяла готовую реализацию функции распределения\n",
        "  p_value = 1 - chi2.cdf(chi2_value, dof)\n",
        "\n",
        "  return p_value"
      ],
      "metadata": {
        "id": "kePTn_5hLN2V"
      },
      "execution_count": null,
      "outputs": []
    },
    {
      "cell_type": "code",
      "source": [
        "contingency_table = create_contingency_table(data, 'sex', 'bmi_category')"
      ],
      "metadata": {
        "id": "q3Pax_93NzKc"
      },
      "execution_count": null,
      "outputs": []
    },
    {
      "cell_type": "code",
      "source": [
        "contingency_table"
      ],
      "metadata": {
        "id": "z5PjVzi4N_kQ"
      },
      "execution_count": null,
      "outputs": []
    },
    {
      "cell_type": "code",
      "source": [
        "totals = count_totals(contingency_table)\n",
        "chi2_value = count_chi2(totals, contingency_table)\n",
        "\n",
        "print(f\"Chi2: {chi2_value}\")"
      ],
      "metadata": {
        "id": "sQ-5tELby7G7"
      },
      "execution_count": null,
      "outputs": []
    },
    {
      "cell_type": "code",
      "source": [
        "p_value = count_p_value(totals, chi2_value)\n",
        "\n",
        "print(f\"p-value: {p_value}\")"
      ],
      "metadata": {
        "id": "VI857YwLIJTw"
      },
      "execution_count": null,
      "outputs": []
    },
    {
      "cell_type": "markdown",
      "source": [
        "На основании p-value, которое больше 0.05 (сильно больше), мы не можем отклонить нулевую гипотезу (то есть не можем утверждать, что между полом и BMI есть зависимость).\n",
        "\n",
        "На всякий случай теперь проверим наш результат без категоризации BMI."
      ],
      "metadata": {
        "id": "VDa0TUS4K0_5"
      }
    },
    {
      "cell_type": "markdown",
      "source": [
        "#### Решение без категоризации BMI"
      ],
      "metadata": {
        "id": "4JJ72J3kSUNG"
      }
    },
    {
      "cell_type": "code",
      "source": [
        "data = pd.read_csv('/content/sex_bmi_smokers.csv')"
      ],
      "metadata": {
        "id": "QFNupogOLGke"
      },
      "execution_count": null,
      "outputs": []
    },
    {
      "cell_type": "code",
      "source": [
        "contingency_table = create_contingency_table(data, 'sex', 'bmi')"
      ],
      "metadata": {
        "id": "V84iqs86LJkY"
      },
      "execution_count": null,
      "outputs": []
    },
    {
      "cell_type": "code",
      "source": [
        "totals = count_totals(contingency_table)\n",
        "chi2_value = count_chi2(totals, contingency_table)\n",
        "\n",
        "print(f\"Chi2: {chi2_value}\")"
      ],
      "metadata": {
        "id": "eh-B94DQPR7g"
      },
      "execution_count": null,
      "outputs": []
    },
    {
      "cell_type": "code",
      "source": [
        "p_value = count_p_value(totals, chi2_value)\n",
        "\n",
        "print(f\"p-value: {p_value}\")"
      ],
      "metadata": {
        "id": "aZXC9CMyPVEd"
      },
      "execution_count": null,
      "outputs": []
    },
    {
      "cell_type": "markdown",
      "source": [
        "Мы подтвердили, что не можем откинуть нулевую гипотезу."
      ],
      "metadata": {
        "id": "GjzwPuRFPzVc"
      }
    },
    {
      "cell_type": "markdown",
      "source": [
        "### Точный критерий Фишера"
      ],
      "metadata": {
        "id": "KSSemZYzQLnv"
      }
    },
    {
      "cell_type": "code",
      "source": [
        "data = pd.read_csv('/content/sex_bmi_smokers.csv')"
      ],
      "metadata": {
        "id": "CyGgj8U0SI3o"
      },
      "execution_count": null,
      "outputs": []
    },
    {
      "cell_type": "code",
      "source": [
        "data['bmi'].value_counts()"
      ],
      "metadata": {
        "id": "XzB4AyfCSGd2"
      },
      "execution_count": null,
      "outputs": []
    },
    {
      "cell_type": "markdown",
      "source": [
        "Точный критерий Фишера применим к таблицам 2$\\times$2, так что нам придётся привести наши данные к такому виду (то есть категоризовать BMI, но уже на две категории - я выбрала в качестве них низкий - меньше 25 - и высокий - больше 25).\n",
        "\n",
        "Для таблицы 2$\\times$2 формула для расчёта вероятности конкретного распределения значений такая:\n",
        "\n",
        "$$P =\\frac{{(a + b)!(c + d)!(a + c)!(b + d)!}}{{a!b!c!d!n!}}$$\n",
        "\n",
        "P-value для точного критерия Фишера рассчитывается путём суммирования вероятностей всех таких же или более экстремальных распределений таблиц, чем наблюдаемое, при условии фиксированных маргинальных сумм таблицы."
      ],
      "metadata": {
        "id": "DycKSEDBR5V7"
      }
    },
    {
      "cell_type": "code",
      "source": [
        "bins = [0, 24.9, float('inf')]\n",
        "labels = ['low', 'high']\n",
        "data['bmi_category'] = pd.cut(data['bmi'], bins=bins, labels=labels)\n",
        "data.drop(columns=['bmi'], inplace=True)"
      ],
      "metadata": {
        "id": "CAxSHoFTWrwq"
      },
      "execution_count": null,
      "outputs": []
    },
    {
      "cell_type": "code",
      "source": [
        "contingency_table = create_contingency_table(data, 'sex', 'bmi_category')"
      ],
      "metadata": {
        "id": "jbhC6YMFR4dL"
      },
      "execution_count": null,
      "outputs": []
    },
    {
      "cell_type": "code",
      "source": [
        "contingency_table_2x2 = contingency_table.loc[:, ['low', 'high']].copy()\n",
        "contingency_table_2x2['high'] = contingency_table.loc[:, contingency_table.columns != 'low'].sum(axis=1)"
      ],
      "metadata": {
        "id": "G9Xjj5B0Vbun"
      },
      "execution_count": null,
      "outputs": []
    },
    {
      "cell_type": "code",
      "source": [
        "odds_ratio, p_value = fisher_exact(contingency_table_2x2)\n",
        "\n",
        "print(f\"Odds Ratio: {odds_ratio}\")\n",
        "print(f\"p-value (Fisher's exact test): {p_value}\")"
      ],
      "metadata": {
        "id": "t52Eyu7iUkiD"
      },
      "execution_count": null,
      "outputs": []
    },
    {
      "cell_type": "markdown",
      "source": [
        "P-value всё ещё довольно сильно больше 0.05. Мы снова не можем откинуть нулевую гипотезу, а значит, не можем утверждать, что есть зависимость между полом и BMI."
      ],
      "metadata": {
        "id": "R81yEh1TXmGT"
      }
    }
  ]
}