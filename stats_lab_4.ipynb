{
  "cells": [
    {
      "cell_type": "markdown",
      "metadata": {
        "id": "BVrhnPT1lHNc"
      },
      "source": [
        "# Вариант 2\n",
        "\n",
        "\n",
        "*   Зависимая переменная - цена, предикторы - мощность, емкость бензобака, расход топлива в городе.\n",
        "*   Задачи про гипотезы:\n",
        "    - Чем больше мощность, тем больше цена.\n",
        "    - Цена зависит от расхода топлива в городе.\n",
        "    - Цена одновременно зависит от расхода топлива и емкости бензобака.\n",
        "    \n",
        "1. Построить модель линейной регрессии с указанными параметрами **своими средствами** (вместе со свободным коэффициентом), то есть пользоваться готовыми линейными моделями **нельзя** (максимум - для сравнения своего результата с готовой реализации, плюс можно использовать NumPy для матричных вычислений или специальные функции, решающие оптимизационные задачи)\n",
        "2. Рассчитать оценки наименьших квадратов для параметров и остаточной дисперсии\n",
        "3. Вычислить коэффициент детерминации\n",
        "4. Построить доверительные интервалы для параметров модели и остаточной дисперсии\n",
        "5. Проверить гипотезы при уровне значимости $\\alpha = 0,05$ (формализовать основную и альтернативную гипотезу, рассчитать статистику критерия, вычислить критические значения, указать p-value)\n",
        "\n",
        "\n",
        "\n",
        "\n",
        "\n",
        "\n",
        "\n"
      ]
    },
    {
      "cell_type": "markdown",
      "metadata": {
        "id": "kY5vqlOXpKJF"
      },
      "source": [
        "# Загрузка датасета и необходимых модулей"
      ]
    },
    {
      "cell_type": "code",
      "execution_count": null,
      "metadata": {
        "id": "2i-P_hV8kODJ"
      },
      "outputs": [],
      "source": [
        "import numpy as np\n",
        "import pandas as pd\n",
        "import matplotlib.pyplot as plt\n",
        "import scipy.stats"
      ]
    },
    {
      "cell_type": "code",
      "execution_count": null,
      "metadata": {
        "colab": {
          "base_uri": "https://localhost:8080/"
        },
        "id": "EkiMJ_iJSOYV",
        "outputId": "62a70faf-64a5-40e0-a88f-5513316b899c"
      },
      "outputs": [
        {
          "output_type": "stream",
          "name": "stdout",
          "text": [
            "--2024-06-06 18:26:13--  https://drive.google.com/uc?id=1vv2jGNp6EO8HHRoscDRQU90faR3j8iTN\n",
            "Resolving drive.google.com (drive.google.com)... 173.194.213.138, 173.194.213.101, 173.194.213.113, ...\n",
            "Connecting to drive.google.com (drive.google.com)|173.194.213.138|:443... connected.\n",
            "HTTP request sent, awaiting response... 303 See Other\n",
            "Location: https://drive.usercontent.google.com/download?id=1vv2jGNp6EO8HHRoscDRQU90faR3j8iTN [following]\n",
            "--2024-06-06 18:26:13--  https://drive.usercontent.google.com/download?id=1vv2jGNp6EO8HHRoscDRQU90faR3j8iTN\n",
            "Resolving drive.usercontent.google.com (drive.usercontent.google.com)... 74.125.134.132, 2607:f8b0:400c:c00::84\n",
            "Connecting to drive.usercontent.google.com (drive.usercontent.google.com)|74.125.134.132|:443... connected.\n",
            "HTTP request sent, awaiting response... 200 OK\n",
            "Length: 14505 (14K) [application/octet-stream]\n",
            "Saving to: ‘/content/cars.csv’\n",
            "\n",
            "/content/cars.csv   100%[===================>]  14.17K  --.-KB/s    in 0s      \n",
            "\n",
            "2024-06-06 18:26:13 (92.5 MB/s) - ‘/content/cars.csv’ saved [14505/14505]\n",
            "\n"
          ]
        }
      ],
      "source": [
        "!wget -O /content/cars.csv 'https://drive.google.com/uc?id=1vv2jGNp6EO8HHRoscDRQU90faR3j8iTN'"
      ]
    },
    {
      "cell_type": "code",
      "execution_count": null,
      "metadata": {
        "colab": {
          "base_uri": "https://localhost:8080/"
        },
        "id": "4eIUjhFlpbLY",
        "outputId": "41418dd0-2730-4857-f4d1-1850e1edaf77"
      },
      "outputs": [
        {
          "output_type": "execute_result",
          "data": {
            "text/plain": [
              "  Manufacturer    Model     Type  Min.Price  Price  Max.Price  MPG.city  \\\n",
              "0        Acura  Integra    Small       12.9   15.9       18.8        25   \n",
              "1        Acura   Legend  Midsize       29.2   33.9       38.7        18   \n",
              "2         Audi       90  Compact       25.9   29.1       32.3        20   \n",
              "3         Audi      100  Midsize       30.8   37.7       44.6        19   \n",
              "4          BMW     535i  Midsize       23.7   30.0       36.2        22   \n",
              "\n",
              "   MPG.highway             AirBags DriveTrain  ... Passengers  Length  \\\n",
              "0           31                 NaN      Front  ...          5     177   \n",
              "1           25  Driver & Passenger      Front  ...          5     195   \n",
              "2           26         Driver only      Front  ...          5     180   \n",
              "3           26  Driver & Passenger      Front  ...          6     193   \n",
              "4           30         Driver only       Rear  ...          4     186   \n",
              "\n",
              "   Wheelbase  Width  Turn.circle Rear.seat.room  Luggage.room  Weight  \\\n",
              "0        102     68           37           26.5          11.0    2705   \n",
              "1        115     71           38           30.0          15.0    3560   \n",
              "2        102     67           37           28.0          14.0    3375   \n",
              "3        106     70           37           31.0          17.0    3405   \n",
              "4        109     69           39           27.0          13.0    3640   \n",
              "\n",
              "    Origin           Make  \n",
              "0  non-USA  Acura Integra  \n",
              "1  non-USA   Acura Legend  \n",
              "2  non-USA        Audi 90  \n",
              "3  non-USA       Audi 100  \n",
              "4  non-USA       BMW 535i  \n",
              "\n",
              "[5 rows x 27 columns]"
            ],
            "text/html": [
              "\n",
              "  <div id=\"df-ae1d6826-9475-44da-8aba-56f266e20fe9\" class=\"colab-df-container\">\n",
              "    <div>\n",
              "<style scoped>\n",
              "    .dataframe tbody tr th:only-of-type {\n",
              "        vertical-align: middle;\n",
              "    }\n",
              "\n",
              "    .dataframe tbody tr th {\n",
              "        vertical-align: top;\n",
              "    }\n",
              "\n",
              "    .dataframe thead th {\n",
              "        text-align: right;\n",
              "    }\n",
              "</style>\n",
              "<table border=\"1\" class=\"dataframe\">\n",
              "  <thead>\n",
              "    <tr style=\"text-align: right;\">\n",
              "      <th></th>\n",
              "      <th>Manufacturer</th>\n",
              "      <th>Model</th>\n",
              "      <th>Type</th>\n",
              "      <th>Min.Price</th>\n",
              "      <th>Price</th>\n",
              "      <th>Max.Price</th>\n",
              "      <th>MPG.city</th>\n",
              "      <th>MPG.highway</th>\n",
              "      <th>AirBags</th>\n",
              "      <th>DriveTrain</th>\n",
              "      <th>...</th>\n",
              "      <th>Passengers</th>\n",
              "      <th>Length</th>\n",
              "      <th>Wheelbase</th>\n",
              "      <th>Width</th>\n",
              "      <th>Turn.circle</th>\n",
              "      <th>Rear.seat.room</th>\n",
              "      <th>Luggage.room</th>\n",
              "      <th>Weight</th>\n",
              "      <th>Origin</th>\n",
              "      <th>Make</th>\n",
              "    </tr>\n",
              "  </thead>\n",
              "  <tbody>\n",
              "    <tr>\n",
              "      <th>0</th>\n",
              "      <td>Acura</td>\n",
              "      <td>Integra</td>\n",
              "      <td>Small</td>\n",
              "      <td>12.9</td>\n",
              "      <td>15.9</td>\n",
              "      <td>18.8</td>\n",
              "      <td>25</td>\n",
              "      <td>31</td>\n",
              "      <td>NaN</td>\n",
              "      <td>Front</td>\n",
              "      <td>...</td>\n",
              "      <td>5</td>\n",
              "      <td>177</td>\n",
              "      <td>102</td>\n",
              "      <td>68</td>\n",
              "      <td>37</td>\n",
              "      <td>26.5</td>\n",
              "      <td>11.0</td>\n",
              "      <td>2705</td>\n",
              "      <td>non-USA</td>\n",
              "      <td>Acura Integra</td>\n",
              "    </tr>\n",
              "    <tr>\n",
              "      <th>1</th>\n",
              "      <td>Acura</td>\n",
              "      <td>Legend</td>\n",
              "      <td>Midsize</td>\n",
              "      <td>29.2</td>\n",
              "      <td>33.9</td>\n",
              "      <td>38.7</td>\n",
              "      <td>18</td>\n",
              "      <td>25</td>\n",
              "      <td>Driver &amp; Passenger</td>\n",
              "      <td>Front</td>\n",
              "      <td>...</td>\n",
              "      <td>5</td>\n",
              "      <td>195</td>\n",
              "      <td>115</td>\n",
              "      <td>71</td>\n",
              "      <td>38</td>\n",
              "      <td>30.0</td>\n",
              "      <td>15.0</td>\n",
              "      <td>3560</td>\n",
              "      <td>non-USA</td>\n",
              "      <td>Acura Legend</td>\n",
              "    </tr>\n",
              "    <tr>\n",
              "      <th>2</th>\n",
              "      <td>Audi</td>\n",
              "      <td>90</td>\n",
              "      <td>Compact</td>\n",
              "      <td>25.9</td>\n",
              "      <td>29.1</td>\n",
              "      <td>32.3</td>\n",
              "      <td>20</td>\n",
              "      <td>26</td>\n",
              "      <td>Driver only</td>\n",
              "      <td>Front</td>\n",
              "      <td>...</td>\n",
              "      <td>5</td>\n",
              "      <td>180</td>\n",
              "      <td>102</td>\n",
              "      <td>67</td>\n",
              "      <td>37</td>\n",
              "      <td>28.0</td>\n",
              "      <td>14.0</td>\n",
              "      <td>3375</td>\n",
              "      <td>non-USA</td>\n",
              "      <td>Audi 90</td>\n",
              "    </tr>\n",
              "    <tr>\n",
              "      <th>3</th>\n",
              "      <td>Audi</td>\n",
              "      <td>100</td>\n",
              "      <td>Midsize</td>\n",
              "      <td>30.8</td>\n",
              "      <td>37.7</td>\n",
              "      <td>44.6</td>\n",
              "      <td>19</td>\n",
              "      <td>26</td>\n",
              "      <td>Driver &amp; Passenger</td>\n",
              "      <td>Front</td>\n",
              "      <td>...</td>\n",
              "      <td>6</td>\n",
              "      <td>193</td>\n",
              "      <td>106</td>\n",
              "      <td>70</td>\n",
              "      <td>37</td>\n",
              "      <td>31.0</td>\n",
              "      <td>17.0</td>\n",
              "      <td>3405</td>\n",
              "      <td>non-USA</td>\n",
              "      <td>Audi 100</td>\n",
              "    </tr>\n",
              "    <tr>\n",
              "      <th>4</th>\n",
              "      <td>BMW</td>\n",
              "      <td>535i</td>\n",
              "      <td>Midsize</td>\n",
              "      <td>23.7</td>\n",
              "      <td>30.0</td>\n",
              "      <td>36.2</td>\n",
              "      <td>22</td>\n",
              "      <td>30</td>\n",
              "      <td>Driver only</td>\n",
              "      <td>Rear</td>\n",
              "      <td>...</td>\n",
              "      <td>4</td>\n",
              "      <td>186</td>\n",
              "      <td>109</td>\n",
              "      <td>69</td>\n",
              "      <td>39</td>\n",
              "      <td>27.0</td>\n",
              "      <td>13.0</td>\n",
              "      <td>3640</td>\n",
              "      <td>non-USA</td>\n",
              "      <td>BMW 535i</td>\n",
              "    </tr>\n",
              "  </tbody>\n",
              "</table>\n",
              "<p>5 rows × 27 columns</p>\n",
              "</div>\n",
              "    <div class=\"colab-df-buttons\">\n",
              "\n",
              "  <div class=\"colab-df-container\">\n",
              "    <button class=\"colab-df-convert\" onclick=\"convertToInteractive('df-ae1d6826-9475-44da-8aba-56f266e20fe9')\"\n",
              "            title=\"Convert this dataframe to an interactive table.\"\n",
              "            style=\"display:none;\">\n",
              "\n",
              "  <svg xmlns=\"http://www.w3.org/2000/svg\" height=\"24px\" viewBox=\"0 -960 960 960\">\n",
              "    <path d=\"M120-120v-720h720v720H120Zm60-500h600v-160H180v160Zm220 220h160v-160H400v160Zm0 220h160v-160H400v160ZM180-400h160v-160H180v160Zm440 0h160v-160H620v160ZM180-180h160v-160H180v160Zm440 0h160v-160H620v160Z\"/>\n",
              "  </svg>\n",
              "    </button>\n",
              "\n",
              "  <style>\n",
              "    .colab-df-container {\n",
              "      display:flex;\n",
              "      gap: 12px;\n",
              "    }\n",
              "\n",
              "    .colab-df-convert {\n",
              "      background-color: #E8F0FE;\n",
              "      border: none;\n",
              "      border-radius: 50%;\n",
              "      cursor: pointer;\n",
              "      display: none;\n",
              "      fill: #1967D2;\n",
              "      height: 32px;\n",
              "      padding: 0 0 0 0;\n",
              "      width: 32px;\n",
              "    }\n",
              "\n",
              "    .colab-df-convert:hover {\n",
              "      background-color: #E2EBFA;\n",
              "      box-shadow: 0px 1px 2px rgba(60, 64, 67, 0.3), 0px 1px 3px 1px rgba(60, 64, 67, 0.15);\n",
              "      fill: #174EA6;\n",
              "    }\n",
              "\n",
              "    .colab-df-buttons div {\n",
              "      margin-bottom: 4px;\n",
              "    }\n",
              "\n",
              "    [theme=dark] .colab-df-convert {\n",
              "      background-color: #3B4455;\n",
              "      fill: #D2E3FC;\n",
              "    }\n",
              "\n",
              "    [theme=dark] .colab-df-convert:hover {\n",
              "      background-color: #434B5C;\n",
              "      box-shadow: 0px 1px 3px 1px rgba(0, 0, 0, 0.15);\n",
              "      filter: drop-shadow(0px 1px 2px rgba(0, 0, 0, 0.3));\n",
              "      fill: #FFFFFF;\n",
              "    }\n",
              "  </style>\n",
              "\n",
              "    <script>\n",
              "      const buttonEl =\n",
              "        document.querySelector('#df-ae1d6826-9475-44da-8aba-56f266e20fe9 button.colab-df-convert');\n",
              "      buttonEl.style.display =\n",
              "        google.colab.kernel.accessAllowed ? 'block' : 'none';\n",
              "\n",
              "      async function convertToInteractive(key) {\n",
              "        const element = document.querySelector('#df-ae1d6826-9475-44da-8aba-56f266e20fe9');\n",
              "        const dataTable =\n",
              "          await google.colab.kernel.invokeFunction('convertToInteractive',\n",
              "                                                    [key], {});\n",
              "        if (!dataTable) return;\n",
              "\n",
              "        const docLinkHtml = 'Like what you see? Visit the ' +\n",
              "          '<a target=\"_blank\" href=https://colab.research.google.com/notebooks/data_table.ipynb>data table notebook</a>'\n",
              "          + ' to learn more about interactive tables.';\n",
              "        element.innerHTML = '';\n",
              "        dataTable['output_type'] = 'display_data';\n",
              "        await google.colab.output.renderOutput(dataTable, element);\n",
              "        const docLink = document.createElement('div');\n",
              "        docLink.innerHTML = docLinkHtml;\n",
              "        element.appendChild(docLink);\n",
              "      }\n",
              "    </script>\n",
              "  </div>\n",
              "\n",
              "\n",
              "<div id=\"df-469d6990-5984-4b7f-bc2f-e7251d229505\">\n",
              "  <button class=\"colab-df-quickchart\" onclick=\"quickchart('df-469d6990-5984-4b7f-bc2f-e7251d229505')\"\n",
              "            title=\"Suggest charts\"\n",
              "            style=\"display:none;\">\n",
              "\n",
              "<svg xmlns=\"http://www.w3.org/2000/svg\" height=\"24px\"viewBox=\"0 0 24 24\"\n",
              "     width=\"24px\">\n",
              "    <g>\n",
              "        <path d=\"M19 3H5c-1.1 0-2 .9-2 2v14c0 1.1.9 2 2 2h14c1.1 0 2-.9 2-2V5c0-1.1-.9-2-2-2zM9 17H7v-7h2v7zm4 0h-2V7h2v10zm4 0h-2v-4h2v4z\"/>\n",
              "    </g>\n",
              "</svg>\n",
              "  </button>\n",
              "\n",
              "<style>\n",
              "  .colab-df-quickchart {\n",
              "      --bg-color: #E8F0FE;\n",
              "      --fill-color: #1967D2;\n",
              "      --hover-bg-color: #E2EBFA;\n",
              "      --hover-fill-color: #174EA6;\n",
              "      --disabled-fill-color: #AAA;\n",
              "      --disabled-bg-color: #DDD;\n",
              "  }\n",
              "\n",
              "  [theme=dark] .colab-df-quickchart {\n",
              "      --bg-color: #3B4455;\n",
              "      --fill-color: #D2E3FC;\n",
              "      --hover-bg-color: #434B5C;\n",
              "      --hover-fill-color: #FFFFFF;\n",
              "      --disabled-bg-color: #3B4455;\n",
              "      --disabled-fill-color: #666;\n",
              "  }\n",
              "\n",
              "  .colab-df-quickchart {\n",
              "    background-color: var(--bg-color);\n",
              "    border: none;\n",
              "    border-radius: 50%;\n",
              "    cursor: pointer;\n",
              "    display: none;\n",
              "    fill: var(--fill-color);\n",
              "    height: 32px;\n",
              "    padding: 0;\n",
              "    width: 32px;\n",
              "  }\n",
              "\n",
              "  .colab-df-quickchart:hover {\n",
              "    background-color: var(--hover-bg-color);\n",
              "    box-shadow: 0 1px 2px rgba(60, 64, 67, 0.3), 0 1px 3px 1px rgba(60, 64, 67, 0.15);\n",
              "    fill: var(--button-hover-fill-color);\n",
              "  }\n",
              "\n",
              "  .colab-df-quickchart-complete:disabled,\n",
              "  .colab-df-quickchart-complete:disabled:hover {\n",
              "    background-color: var(--disabled-bg-color);\n",
              "    fill: var(--disabled-fill-color);\n",
              "    box-shadow: none;\n",
              "  }\n",
              "\n",
              "  .colab-df-spinner {\n",
              "    border: 2px solid var(--fill-color);\n",
              "    border-color: transparent;\n",
              "    border-bottom-color: var(--fill-color);\n",
              "    animation:\n",
              "      spin 1s steps(1) infinite;\n",
              "  }\n",
              "\n",
              "  @keyframes spin {\n",
              "    0% {\n",
              "      border-color: transparent;\n",
              "      border-bottom-color: var(--fill-color);\n",
              "      border-left-color: var(--fill-color);\n",
              "    }\n",
              "    20% {\n",
              "      border-color: transparent;\n",
              "      border-left-color: var(--fill-color);\n",
              "      border-top-color: var(--fill-color);\n",
              "    }\n",
              "    30% {\n",
              "      border-color: transparent;\n",
              "      border-left-color: var(--fill-color);\n",
              "      border-top-color: var(--fill-color);\n",
              "      border-right-color: var(--fill-color);\n",
              "    }\n",
              "    40% {\n",
              "      border-color: transparent;\n",
              "      border-right-color: var(--fill-color);\n",
              "      border-top-color: var(--fill-color);\n",
              "    }\n",
              "    60% {\n",
              "      border-color: transparent;\n",
              "      border-right-color: var(--fill-color);\n",
              "    }\n",
              "    80% {\n",
              "      border-color: transparent;\n",
              "      border-right-color: var(--fill-color);\n",
              "      border-bottom-color: var(--fill-color);\n",
              "    }\n",
              "    90% {\n",
              "      border-color: transparent;\n",
              "      border-bottom-color: var(--fill-color);\n",
              "    }\n",
              "  }\n",
              "</style>\n",
              "\n",
              "  <script>\n",
              "    async function quickchart(key) {\n",
              "      const quickchartButtonEl =\n",
              "        document.querySelector('#' + key + ' button');\n",
              "      quickchartButtonEl.disabled = true;  // To prevent multiple clicks.\n",
              "      quickchartButtonEl.classList.add('colab-df-spinner');\n",
              "      try {\n",
              "        const charts = await google.colab.kernel.invokeFunction(\n",
              "            'suggestCharts', [key], {});\n",
              "      } catch (error) {\n",
              "        console.error('Error during call to suggestCharts:', error);\n",
              "      }\n",
              "      quickchartButtonEl.classList.remove('colab-df-spinner');\n",
              "      quickchartButtonEl.classList.add('colab-df-quickchart-complete');\n",
              "    }\n",
              "    (() => {\n",
              "      let quickchartButtonEl =\n",
              "        document.querySelector('#df-469d6990-5984-4b7f-bc2f-e7251d229505 button');\n",
              "      quickchartButtonEl.style.display =\n",
              "        google.colab.kernel.accessAllowed ? 'block' : 'none';\n",
              "    })();\n",
              "  </script>\n",
              "</div>\n",
              "    </div>\n",
              "  </div>\n"
            ],
            "application/vnd.google.colaboratory.intrinsic+json": {
              "type": "dataframe",
              "variable_name": "data"
            }
          },
          "metadata": {},
          "execution_count": 3
        }
      ],
      "source": [
        "data = pd.read_csv('/content/cars.csv')\n",
        "data.head()"
      ]
    },
    {
      "cell_type": "code",
      "execution_count": null,
      "metadata": {
        "colab": {
          "base_uri": "https://localhost:8080/"
        },
        "id": "y7SFpvc-9VLy",
        "outputId": "2b5ce787-51fa-4a2e-8b99-7052ac79917b"
      },
      "outputs": [
        {
          "output_type": "execute_result",
          "data": {
            "text/plain": [
              "(93, 27)"
            ]
          },
          "metadata": {},
          "execution_count": 4
        }
      ],
      "source": [
        "data.shape"
      ]
    },
    {
      "cell_type": "code",
      "execution_count": null,
      "metadata": {
        "colab": {
          "base_uri": "https://localhost:8080/"
        },
        "id": "s-nY_2p8UGfy",
        "outputId": "60f12e96-5aa6-4d12-a316-a3a64d3b5988"
      },
      "outputs": [
        {
          "output_type": "execute_result",
          "data": {
            "text/plain": [
              "Index(['Manufacturer', 'Model', 'Type', 'Min.Price', 'Price', 'Max.Price',\n",
              "       'MPG.city', 'MPG.highway', 'AirBags', 'DriveTrain', 'Cylinders',\n",
              "       'EngineSize', 'Horsepower', 'RPM', 'Rev.per.mile', 'Man.trans.avail',\n",
              "       'Fuel.tank.capacity', 'Passengers', 'Length', 'Wheelbase', 'Width',\n",
              "       'Turn.circle', 'Rear.seat.room', 'Luggage.room', 'Weight', 'Origin',\n",
              "       'Make'],\n",
              "      dtype='object')"
            ]
          },
          "metadata": {},
          "execution_count": 5
        }
      ],
      "source": [
        "data.columns"
      ]
    },
    {
      "cell_type": "markdown",
      "metadata": {
        "id": "-9vCSde_JSmx"
      },
      "source": [
        "# Решение"
      ]
    },
    {
      "cell_type": "markdown",
      "metadata": {
        "id": "SM-xu4yzIW8i"
      },
      "source": [
        "Цель модели линейной регрессии – найти такие коэффициенты $\\beta$, которые бы минимизировали разность квадратов между предсказанными и истинными значениями зависимой переменной.\n",
        "\n",
        "$$Y=X\\beta+E$$"
      ]
    },
    {
      "cell_type": "markdown",
      "metadata": {
        "id": "SmF2YiTzJYNu"
      },
      "source": [
        "## Построение модели линейной регрессии"
      ]
    },
    {
      "cell_type": "markdown",
      "metadata": {
        "id": "68e0DgfSTe0H"
      },
      "source": [
        "Зависимая переменная - цена (`Price`), предикторы - мощность, емкость бензобака, расход топлива в городе (`Horsepower`, `Fuel.tank.capacity`, `MPG.city`)\n",
        "\n",
        "Создадим матрицу признаков и вектор таргетов для этой задачи."
      ]
    },
    {
      "cell_type": "code",
      "execution_count": null,
      "metadata": {
        "id": "PEKWj2ERTWsa"
      },
      "outputs": [],
      "source": [
        "x = data[['Horsepower', 'Fuel.tank.capacity', 'MPG.city']]\n",
        "y = data['Price']"
      ]
    },
    {
      "cell_type": "code",
      "execution_count": null,
      "metadata": {
        "id": "9LroEnX74dlC"
      },
      "outputs": [],
      "source": [
        "x = np.c_[np.ones(x.shape[0]), x] # добавляем столбец единиц"
      ]
    },
    {
      "cell_type": "code",
      "execution_count": null,
      "metadata": {
        "colab": {
          "base_uri": "https://localhost:8080/"
        },
        "id": "aITM9u84OsNj",
        "outputId": "717a4c10-1ea2-4bb5-99d4-cbcfd72ec5d8"
      },
      "outputs": [
        {
          "output_type": "execute_result",
          "data": {
            "text/plain": [
              "array([[  1. , 140. ,  13.2,  25. ],\n",
              "       [  1. , 200. ,  18. ,  18. ],\n",
              "       [  1. , 172. ,  16.9,  20. ],\n",
              "       [  1. , 172. ,  21.1,  19. ],\n",
              "       [  1. , 208. ,  21.1,  22. ],\n",
              "       [  1. , 110. ,  16.4,  22. ],\n",
              "       [  1. , 170. ,  18. ,  19. ],\n",
              "       [  1. , 180. ,  23. ,  16. ],\n",
              "       [  1. , 170. ,  18.8,  19. ],\n",
              "       [  1. , 200. ,  18. ,  16. ],\n",
              "       [  1. , 295. ,  20. ,  16. ],\n",
              "       [  1. , 110. ,  15.2,  25. ],\n",
              "       [  1. , 110. ,  15.6,  25. ],\n",
              "       [  1. , 160. ,  15.5,  19. ],\n",
              "       [  1. , 110. ,  16.5,  21. ],\n",
              "       [  1. , 170. ,  20. ,  18. ],\n",
              "       [  1. , 165. ,  27. ,  15. ],\n",
              "       [  1. , 170. ,  23. ,  17. ],\n",
              "       [  1. , 300. ,  20. ,  17. ],\n",
              "       [  1. , 153. ,  18. ,  20. ],\n",
              "       [  1. , 141. ,  16. ,  23. ],\n",
              "       [  1. , 147. ,  16. ,  20. ],\n",
              "       [  1. ,  92. ,  13.2,  29. ],\n",
              "       [  1. ,  93. ,  14. ,  23. ],\n",
              "       [  1. , 100. ,  16. ,  22. ],\n",
              "       [  1. , 142. ,  20. ,  17. ],\n",
              "       [  1. , 100. ,  16. ,  21. ],\n",
              "       [  1. , 300. ,  19.8,  18. ],\n",
              "       [  1. ,  92. ,  13.2,  29. ],\n",
              "       [  1. , 214. ,  18. ,  20. ],\n",
              "       [  1. ,  63. ,  10. ,  31. ],\n",
              "       [  1. , 127. ,  13.2,  23. ],\n",
              "       [  1. ,  96. ,  15.9,  22. ],\n",
              "       [  1. , 105. ,  15.4,  22. ],\n",
              "       [  1. , 115. ,  15.5,  24. ],\n",
              "       [  1. , 145. ,  21. ,  15. ],\n",
              "       [  1. , 140. ,  16. ,  21. ],\n",
              "       [  1. , 190. ,  20. ,  18. ],\n",
              "       [  1. ,  55. ,  10.6,  46. ],\n",
              "       [  1. ,  90. ,  12.4,  30. ],\n",
              "       [  1. , 160. ,  15.9,  24. ],\n",
              "       [  1. , 102. ,  11.9,  42. ],\n",
              "       [  1. , 140. ,  17. ,  24. ],\n",
              "       [  1. ,  81. ,  11.9,  29. ],\n",
              "       [  1. , 124. ,  13.7,  22. ],\n",
              "       [  1. ,  92. ,  11.9,  26. ],\n",
              "       [  1. , 128. ,  17.2,  20. ],\n",
              "       [  1. , 278. ,  22.5,  17. ],\n",
              "       [  1. , 185. ,  18.5,  18. ],\n",
              "       [  1. , 225. ,  20.6,  18. ],\n",
              "       [  1. , 160. ,  18.4,  17. ],\n",
              "       [  1. , 210. ,  20. ,  18. ],\n",
              "       [  1. ,  82. ,  13.2,  29. ],\n",
              "       [  1. , 103. ,  14.5,  28. ],\n",
              "       [  1. , 164. ,  15.5,  26. ],\n",
              "       [  1. , 155. ,  19.6,  18. ],\n",
              "       [  1. , 255. ,  20. ,  17. ],\n",
              "       [  1. , 130. ,  14.5,  20. ],\n",
              "       [  1. , 217. ,  18.5,  19. ],\n",
              "       [  1. , 100. ,  11.1,  23. ],\n",
              "       [  1. , 140. ,  18. ,  19. ],\n",
              "       [  1. ,  92. ,  13.2,  29. ],\n",
              "       [  1. , 202. ,  19. ,  18. ],\n",
              "       [  1. , 110. ,  13.2,  29. ],\n",
              "       [  1. , 150. ,  15.9,  24. ],\n",
              "       [  1. , 151. ,  20. ,  17. ],\n",
              "       [  1. , 160. ,  18.5,  21. ],\n",
              "       [  1. , 155. ,  15.2,  24. ],\n",
              "       [  1. , 110. ,  16.5,  23. ],\n",
              "       [  1. , 170. ,  20. ,  18. ],\n",
              "       [  1. , 170. ,  18. ,  19. ],\n",
              "       [  1. ,  92. ,  15.9,  23. ],\n",
              "       [  1. ,  74. ,  13.2,  31. ],\n",
              "       [  1. , 110. ,  15.2,  23. ],\n",
              "       [  1. , 160. ,  15.5,  19. ],\n",
              "       [  1. , 200. ,  16.5,  19. ],\n",
              "       [  1. , 170. ,  18. ,  19. ],\n",
              "       [  1. , 140. ,  18. ,  20. ],\n",
              "       [  1. ,  85. ,  12.8,  28. ],\n",
              "       [  1. ,  73. ,   9.2,  33. ],\n",
              "       [  1. ,  90. ,  15.9,  25. ],\n",
              "       [  1. , 130. ,  15.9,  23. ],\n",
              "       [  1. ,  70. ,  10.6,  39. ],\n",
              "       [  1. ,  82. ,  11.9,  32. ],\n",
              "       [  1. , 135. ,  15.9,  25. ],\n",
              "       [  1. , 130. ,  18.5,  22. ],\n",
              "       [  1. , 138. ,  19.8,  18. ],\n",
              "       [  1. ,  81. ,  12.4,  25. ],\n",
              "       [  1. , 109. ,  21.1,  17. ],\n",
              "       [  1. , 134. ,  18.5,  21. ],\n",
              "       [  1. , 178. ,  18.5,  18. ],\n",
              "       [  1. , 114. ,  15.8,  21. ],\n",
              "       [  1. , 168. ,  19.3,  20. ]])"
            ]
          },
          "metadata": {},
          "execution_count": 8
        }
      ],
      "source": [
        "x"
      ]
    },
    {
      "cell_type": "code",
      "execution_count": null,
      "metadata": {
        "colab": {
          "base_uri": "https://localhost:8080/"
        },
        "id": "wtBB1f5QPwtU",
        "outputId": "8885a8e1-2e95-402a-fdf8-b85185e66962"
      },
      "outputs": [
        {
          "output_type": "execute_result",
          "data": {
            "text/plain": [
              "0     15.9\n",
              "1     33.9\n",
              "2     29.1\n",
              "3     37.7\n",
              "4     30.0\n",
              "      ... \n",
              "88    19.7\n",
              "89    20.0\n",
              "90    23.3\n",
              "91    22.7\n",
              "92    26.7\n",
              "Name: Price, Length: 93, dtype: float64"
            ]
          },
          "metadata": {},
          "execution_count": 9
        }
      ],
      "source": [
        "y"
      ]
    },
    {
      "cell_type": "code",
      "execution_count": null,
      "metadata": {
        "id": "atPZCbFd66by"
      },
      "outputs": [],
      "source": [
        "x_transposed = np.transpose(x) #транспонированная матрица x"
      ]
    },
    {
      "cell_type": "code",
      "execution_count": null,
      "metadata": {
        "colab": {
          "base_uri": "https://localhost:8080/"
        },
        "id": "RdB6Ijpb68S3",
        "outputId": "0fa90028-59ee-4e74-c536-1f7282cae8a7"
      },
      "outputs": [
        {
          "output_type": "execute_result",
          "data": {
            "text/plain": [
              "array([[  1. ,   1. ,   1. ,   1. ,   1. ,   1. ,   1. ,   1. ,   1. ,\n",
              "          1. ,   1. ,   1. ,   1. ,   1. ,   1. ,   1. ,   1. ,   1. ,\n",
              "          1. ,   1. ,   1. ,   1. ,   1. ,   1. ,   1. ,   1. ,   1. ,\n",
              "          1. ,   1. ,   1. ,   1. ,   1. ,   1. ,   1. ,   1. ,   1. ,\n",
              "          1. ,   1. ,   1. ,   1. ,   1. ,   1. ,   1. ,   1. ,   1. ,\n",
              "          1. ,   1. ,   1. ,   1. ,   1. ,   1. ,   1. ,   1. ,   1. ,\n",
              "          1. ,   1. ,   1. ,   1. ,   1. ,   1. ,   1. ,   1. ,   1. ,\n",
              "          1. ,   1. ,   1. ,   1. ,   1. ,   1. ,   1. ,   1. ,   1. ,\n",
              "          1. ,   1. ,   1. ,   1. ,   1. ,   1. ,   1. ,   1. ,   1. ,\n",
              "          1. ,   1. ,   1. ,   1. ,   1. ,   1. ,   1. ,   1. ,   1. ,\n",
              "          1. ,   1. ,   1. ],\n",
              "       [140. , 200. , 172. , 172. , 208. , 110. , 170. , 180. , 170. ,\n",
              "        200. , 295. , 110. , 110. , 160. , 110. , 170. , 165. , 170. ,\n",
              "        300. , 153. , 141. , 147. ,  92. ,  93. , 100. , 142. , 100. ,\n",
              "        300. ,  92. , 214. ,  63. , 127. ,  96. , 105. , 115. , 145. ,\n",
              "        140. , 190. ,  55. ,  90. , 160. , 102. , 140. ,  81. , 124. ,\n",
              "         92. , 128. , 278. , 185. , 225. , 160. , 210. ,  82. , 103. ,\n",
              "        164. , 155. , 255. , 130. , 217. , 100. , 140. ,  92. , 202. ,\n",
              "        110. , 150. , 151. , 160. , 155. , 110. , 170. , 170. ,  92. ,\n",
              "         74. , 110. , 160. , 200. , 170. , 140. ,  85. ,  73. ,  90. ,\n",
              "        130. ,  70. ,  82. , 135. , 130. , 138. ,  81. , 109. , 134. ,\n",
              "        178. , 114. , 168. ],\n",
              "       [ 13.2,  18. ,  16.9,  21.1,  21.1,  16.4,  18. ,  23. ,  18.8,\n",
              "         18. ,  20. ,  15.2,  15.6,  15.5,  16.5,  20. ,  27. ,  23. ,\n",
              "         20. ,  18. ,  16. ,  16. ,  13.2,  14. ,  16. ,  20. ,  16. ,\n",
              "         19.8,  13.2,  18. ,  10. ,  13.2,  15.9,  15.4,  15.5,  21. ,\n",
              "         16. ,  20. ,  10.6,  12.4,  15.9,  11.9,  17. ,  11.9,  13.7,\n",
              "         11.9,  17.2,  22.5,  18.5,  20.6,  18.4,  20. ,  13.2,  14.5,\n",
              "         15.5,  19.6,  20. ,  14.5,  18.5,  11.1,  18. ,  13.2,  19. ,\n",
              "         13.2,  15.9,  20. ,  18.5,  15.2,  16.5,  20. ,  18. ,  15.9,\n",
              "         13.2,  15.2,  15.5,  16.5,  18. ,  18. ,  12.8,   9.2,  15.9,\n",
              "         15.9,  10.6,  11.9,  15.9,  18.5,  19.8,  12.4,  21.1,  18.5,\n",
              "         18.5,  15.8,  19.3],\n",
              "       [ 25. ,  18. ,  20. ,  19. ,  22. ,  22. ,  19. ,  16. ,  19. ,\n",
              "         16. ,  16. ,  25. ,  25. ,  19. ,  21. ,  18. ,  15. ,  17. ,\n",
              "         17. ,  20. ,  23. ,  20. ,  29. ,  23. ,  22. ,  17. ,  21. ,\n",
              "         18. ,  29. ,  20. ,  31. ,  23. ,  22. ,  22. ,  24. ,  15. ,\n",
              "         21. ,  18. ,  46. ,  30. ,  24. ,  42. ,  24. ,  29. ,  22. ,\n",
              "         26. ,  20. ,  17. ,  18. ,  18. ,  17. ,  18. ,  29. ,  28. ,\n",
              "         26. ,  18. ,  17. ,  20. ,  19. ,  23. ,  19. ,  29. ,  18. ,\n",
              "         29. ,  24. ,  17. ,  21. ,  24. ,  23. ,  18. ,  19. ,  23. ,\n",
              "         31. ,  23. ,  19. ,  19. ,  19. ,  20. ,  28. ,  33. ,  25. ,\n",
              "         23. ,  39. ,  32. ,  25. ,  22. ,  18. ,  25. ,  17. ,  21. ,\n",
              "         18. ,  21. ,  20. ]])"
            ]
          },
          "metadata": {},
          "execution_count": 11
        }
      ],
      "source": [
        "x_transposed"
      ]
    },
    {
      "cell_type": "code",
      "execution_count": null,
      "metadata": {
        "id": "zbSGbFRl7key"
      },
      "outputs": [],
      "source": [
        "x_multiplied = x_transposed @ x #умножаем транспонированную матрицу x на матрицу x"
      ]
    },
    {
      "cell_type": "code",
      "execution_count": null,
      "metadata": {
        "colab": {
          "base_uri": "https://localhost:8080/"
        },
        "id": "DEWQI9r-8G87",
        "outputId": "a963bcee-8b53-45a2-b9f9-abad3cde0d56"
      },
      "outputs": [
        {
          "output_type": "execute_result",
          "data": {
            "text/plain": [
              "array([[9.300000e+01, 1.337600e+04, 1.549800e+03, 2.080000e+03],\n",
              "       [1.337600e+04, 2.176206e+06, 2.341519e+05, 2.809480e+05],\n",
              "       [1.549800e+03, 2.341519e+05, 2.681606e+04, 3.328350e+04],\n",
              "       [2.080000e+03, 2.809480e+05, 3.328350e+04, 4.942600e+04]])"
            ]
          },
          "metadata": {},
          "execution_count": 13
        }
      ],
      "source": [
        "x_multiplied"
      ]
    },
    {
      "cell_type": "code",
      "execution_count": null,
      "metadata": {
        "id": "nDSEMWKj9Vb7"
      },
      "outputs": [],
      "source": [
        "x_inversed = np.linalg.inv(x_multiplied) # находим обратную матрицу"
      ]
    },
    {
      "cell_type": "code",
      "execution_count": null,
      "metadata": {
        "colab": {
          "base_uri": "https://localhost:8080/"
        },
        "id": "kWHTXbHG-1Bv",
        "outputId": "9649c14c-f754-4539-ff19-7787255f31dd"
      },
      "outputs": [
        {
          "output_type": "execute_result",
          "data": {
            "text/plain": [
              "array([[ 2.44661074e+00, -6.11081545e-04, -7.66262201e-02,\n",
              "        -4.78873347e-02],\n",
              "       [-6.11081545e-04,  8.47859514e-06, -6.58834982e-05,\n",
              "         2.18880484e-05],\n",
              "       [-7.66262201e-02, -6.58834982e-05,  3.49522337e-03,\n",
              "         1.24548027e-03],\n",
              "       [-4.78873347e-02,  2.18880484e-05,  1.24548027e-03,\n",
              "         1.07235686e-03]])"
            ]
          },
          "metadata": {},
          "execution_count": 15
        }
      ],
      "source": [
        "x_inversed"
      ]
    },
    {
      "cell_type": "code",
      "execution_count": null,
      "metadata": {
        "id": "HKObzIuD_5RH"
      },
      "outputs": [],
      "source": [
        "matrix = x_inversed @ x_transposed"
      ]
    },
    {
      "cell_type": "code",
      "execution_count": null,
      "metadata": {
        "id": "n_YTJE6gANms"
      },
      "outputs": [],
      "source": [
        "beta = matrix @ y"
      ]
    },
    {
      "cell_type": "code",
      "execution_count": null,
      "metadata": {
        "colab": {
          "base_uri": "https://localhost:8080/"
        },
        "id": "WAm0qMVzjGQW",
        "outputId": "88984043-180b-4875-b3fb-1e9d8d4af9fc"
      },
      "outputs": [
        {
          "output_type": "execute_result",
          "data": {
            "text/plain": [
              "array([ 0.94881401,  0.12711435,  0.19477227, -0.13268236])"
            ]
          },
          "metadata": {},
          "execution_count": 18
        }
      ],
      "source": [
        "beta"
      ]
    },
    {
      "cell_type": "markdown",
      "metadata": {
        "id": "5rmjUupKsZMM"
      },
      "source": [
        "Посчитаем предсказанные значения\n",
        "$\\hat{y} = X\\hat{\\beta}$"
      ]
    },
    {
      "cell_type": "code",
      "execution_count": null,
      "metadata": {
        "id": "QuxiNLgUs8Ct"
      },
      "outputs": [],
      "source": [
        "beta_transposed = np.transpose(np.matrix(beta))"
      ]
    },
    {
      "cell_type": "code",
      "execution_count": null,
      "metadata": {
        "id": "f6u2E-dktk_h"
      },
      "outputs": [],
      "source": [
        "y_hat = x @ beta"
      ]
    },
    {
      "cell_type": "code",
      "execution_count": null,
      "metadata": {
        "colab": {
          "base_uri": "https://localhost:8080/"
        },
        "id": "z5Fz3FF8P5Ke",
        "outputId": "00ae5ca2-5cf0-4cf2-fcbc-44f6f13fcb70"
      },
      "outputs": [
        {
          "output_type": "execute_result",
          "data": {
            "text/plain": [
              "array([17.99875793, 27.4893023 , 23.4504863 , 24.40121221, 28.5792817 ,\n",
              "       15.20664581, 23.54318946, 26.1862414 , 23.69900728, 27.75466701,\n",
              "       40.22007472, 14.574872  , 14.65278091, 21.78511529, 15.35880539,\n",
              "       24.06541637, 25.19129761, 24.78241555, 40.72296411, 21.24956317,\n",
              "       18.93659936, 20.09733253, 11.36653974, 12.44556606, 13.85759341,\n",
              "       20.63889695, 13.99027576, 40.5513273 , 11.36653974, 29.00353847,\n",
              "        6.79158762, 16.61163611, 13.32965878, 14.37630179, 15.40155779,\n",
              "       21.48037699, 19.07484973, 26.60770335,  3.90130082, 10.82381086,\n",
              "       21.19961241, 10.65960862, 18.87157493,  9.71507794, 16.46036156,\n",
              "       11.51138286, 17.91588663, 38.41337911, 25.6799732 , 31.17356893,\n",
              "       22.6153196 , 29.14999033, 10.09539625, 13.15068389, 21.36479618,\n",
              "       22.08079222, 35.0028184 , 17.64423019, 29.61495001, 12.77052691,\n",
              "       19.72975899, 11.36653974, 27.93830327, 13.65459802, 19.92846892,\n",
              "       21.7829261 , 22.10406739, 20.42770007, 15.09344068, 24.06541637,\n",
              "       23.54318946, 12.68851903,  8.81311674, 14.84023672, 21.78511529,\n",
              "       27.06446153, 23.54318946, 19.59707663, 10.53151275,  7.64154858,\n",
              "       12.16892561, 17.51886429,  6.73679257,  9.44414522, 17.88907132,\n",
              "       18.15795456, 19.95880274, 10.34319351, 16.65837293, 18.79909432,\n",
              "       24.79017275, 15.7309222 , 23.40948236])"
            ]
          },
          "metadata": {},
          "execution_count": 21
        }
      ],
      "source": [
        "y_hat"
      ]
    },
    {
      "cell_type": "markdown",
      "source": [
        "## Оценка остаточной дисперсии"
      ],
      "metadata": {
        "id": "umGNV1A-tc5G"
      }
    },
    {
      "cell_type": "markdown",
      "metadata": {
        "id": "50_L2naxOhQa"
      },
      "source": [
        "Рассчитаем оценку остаточной дисперсии по формуле\n",
        "$$\\hat{\\sigma}^2 = \\frac{e^Te}{n - k},$$\n",
        "где $e = y - \\hat{y}$, $n$ - количество наблюдений, $k$ - количество параметров модели."
      ]
    },
    {
      "cell_type": "code",
      "execution_count": null,
      "metadata": {
        "id": "LSHrGpGuPtM-"
      },
      "outputs": [],
      "source": [
        "e = np.array(y) - np.array(y_hat)"
      ]
    },
    {
      "cell_type": "code",
      "execution_count": null,
      "metadata": {
        "colab": {
          "base_uri": "https://localhost:8080/"
        },
        "id": "OTYu4R-iRFP0",
        "outputId": "055be22f-3eff-4f88-ac1b-5cead493d907"
      },
      "outputs": [
        {
          "output_type": "execute_result",
          "data": {
            "text/plain": [
              "array([ -2.09875793,   6.4106977 ,   5.6495137 ,  13.29878779,\n",
              "         1.4207183 ,   0.49335419,  -2.74318946,  -2.4862414 ,\n",
              "         2.60099272,   6.94533299,  -0.12007472,  -1.174872  ,\n",
              "        -3.25278091,  -6.68511529,   0.54119461,  -7.76541637,\n",
              "        -8.59129761,  -5.98241555,  -2.72296411,  -2.84956317,\n",
              "        -3.13659936,   9.40266747,  -2.16653974,  -1.14556606,\n",
              "        -0.55759341,  -1.63889695,   1.60972424, -14.7513273 ,\n",
              "         0.83346026,  -9.70353847,   0.60841238,  -6.51163611,\n",
              "        -2.02965878,   1.52369821,  -1.40155779,  -1.58037699,\n",
              "         1.12515027,  -5.70770335,   4.49869918,   1.67618914,\n",
              "        -1.39961241,   1.44039138,  -1.37157493,  -1.71507794,\n",
              "        -6.46036156,  -1.51138286,  -4.01588663,   9.48662089,\n",
              "         2.3200268 ,   4.02643107,  11.6846804 ,   6.95000967,\n",
              "        -1.79539625,  -1.55068389,  -4.86479618,  -2.98079222,\n",
              "        -2.5028184 ,  14.25576981,  32.28504999,   1.32947309,\n",
              "        -4.82975899,  -1.06653974,  -1.83830327,  -1.85459802,\n",
              "        -4.22846892,  -2.6829261 ,  -0.60406739,  -6.92770007,\n",
              "         1.20655932,  -4.56541637,  -2.84318946,   1.71148097,\n",
              "         0.18688326,  -3.74023672,  -4.08511529,  -8.56446153,\n",
              "         0.85681054,   9.10292337,   0.56848725,   0.75845142,\n",
              "        -1.26892561,   1.98113571,   1.86320743,   0.35585478,\n",
              "         0.51092868,   0.04204544,   2.74119726,  -1.24319351,\n",
              "         3.04162707,   1.20090568,  -1.49017275,   6.9690778 ,\n",
              "         3.29051764])"
            ]
          },
          "metadata": {},
          "execution_count": 23
        }
      ],
      "source": [
        "e"
      ]
    },
    {
      "cell_type": "code",
      "execution_count": null,
      "metadata": {
        "id": "RQF_w_oXRH_w"
      },
      "outputs": [],
      "source": [
        "e_transposed = np.transpose(e)"
      ]
    },
    {
      "cell_type": "code",
      "execution_count": null,
      "metadata": {
        "colab": {
          "base_uri": "https://localhost:8080/"
        },
        "id": "PAoADOOgRMiq",
        "outputId": "c8716b3f-713e-4034-accf-a6e79814e713"
      },
      "outputs": [
        {
          "output_type": "execute_result",
          "data": {
            "text/plain": [
              "array([ -2.09875793,   6.4106977 ,   5.6495137 ,  13.29878779,\n",
              "         1.4207183 ,   0.49335419,  -2.74318946,  -2.4862414 ,\n",
              "         2.60099272,   6.94533299,  -0.12007472,  -1.174872  ,\n",
              "        -3.25278091,  -6.68511529,   0.54119461,  -7.76541637,\n",
              "        -8.59129761,  -5.98241555,  -2.72296411,  -2.84956317,\n",
              "        -3.13659936,   9.40266747,  -2.16653974,  -1.14556606,\n",
              "        -0.55759341,  -1.63889695,   1.60972424, -14.7513273 ,\n",
              "         0.83346026,  -9.70353847,   0.60841238,  -6.51163611,\n",
              "        -2.02965878,   1.52369821,  -1.40155779,  -1.58037699,\n",
              "         1.12515027,  -5.70770335,   4.49869918,   1.67618914,\n",
              "        -1.39961241,   1.44039138,  -1.37157493,  -1.71507794,\n",
              "        -6.46036156,  -1.51138286,  -4.01588663,   9.48662089,\n",
              "         2.3200268 ,   4.02643107,  11.6846804 ,   6.95000967,\n",
              "        -1.79539625,  -1.55068389,  -4.86479618,  -2.98079222,\n",
              "        -2.5028184 ,  14.25576981,  32.28504999,   1.32947309,\n",
              "        -4.82975899,  -1.06653974,  -1.83830327,  -1.85459802,\n",
              "        -4.22846892,  -2.6829261 ,  -0.60406739,  -6.92770007,\n",
              "         1.20655932,  -4.56541637,  -2.84318946,   1.71148097,\n",
              "         0.18688326,  -3.74023672,  -4.08511529,  -8.56446153,\n",
              "         0.85681054,   9.10292337,   0.56848725,   0.75845142,\n",
              "        -1.26892561,   1.98113571,   1.86320743,   0.35585478,\n",
              "         0.51092868,   0.04204544,   2.74119726,  -1.24319351,\n",
              "         3.04162707,   1.20090568,  -1.49017275,   6.9690778 ,\n",
              "         3.29051764])"
            ]
          },
          "metadata": {},
          "execution_count": 25
        }
      ],
      "source": [
        "e_transposed"
      ]
    },
    {
      "cell_type": "code",
      "execution_count": null,
      "metadata": {
        "id": "_6Poy1j3RbXC"
      },
      "outputs": [],
      "source": [
        "n = len(y)\n",
        "k = x.shape[1]"
      ]
    },
    {
      "cell_type": "code",
      "execution_count": null,
      "metadata": {
        "id": "QZ_dxtyPRktJ"
      },
      "outputs": [],
      "source": [
        "residuals = (e_transposed @ e) / (n - k)"
      ]
    },
    {
      "cell_type": "code",
      "execution_count": null,
      "metadata": {
        "colab": {
          "base_uri": "https://localhost:8080/"
        },
        "id": "43ySmqJLYRzp",
        "outputId": "418550c3-bd21-4494-d907-533a216eed7e"
      },
      "outputs": [
        {
          "output_type": "execute_result",
          "data": {
            "text/plain": [
              "35.674752701766295"
            ]
          },
          "metadata": {},
          "execution_count": 28
        }
      ],
      "source": [
        "residuals"
      ]
    },
    {
      "cell_type": "markdown",
      "source": [
        "## Коэффициент детерминации"
      ],
      "metadata": {
        "id": "ty8a7Fr1tihT"
      }
    },
    {
      "cell_type": "markdown",
      "metadata": {
        "id": "9NXpmLeLRzRF"
      },
      "source": [
        "Найдем коэффициент детерминации по формуле $$R^2 = 1 - \\frac{\\sum{e^2}} {\\sum{(y - \\bar{y})^2}}$$"
      ]
    },
    {
      "cell_type": "code",
      "execution_count": null,
      "metadata": {
        "id": "xWs7aHZMSaGW"
      },
      "outputs": [],
      "source": [
        "r_squared = 1 - (np.sum(e ** 2)) / (np.sum((y - np.mean(y)) ** 2))"
      ]
    },
    {
      "cell_type": "code",
      "execution_count": null,
      "metadata": {
        "colab": {
          "base_uri": "https://localhost:8080/"
        },
        "id": "_NpoocR8UxpQ",
        "outputId": "e5e8df89-460d-4f65-e875-9da913f8644f"
      },
      "outputs": [
        {
          "output_type": "execute_result",
          "data": {
            "text/plain": [
              "3175.052990457201"
            ]
          },
          "metadata": {},
          "execution_count": 30
        }
      ],
      "source": [
        "(np.sum(e ** 2))"
      ]
    },
    {
      "cell_type": "code",
      "execution_count": null,
      "metadata": {
        "colab": {
          "base_uri": "https://localhost:8080/"
        },
        "id": "rOfH0BGAU1XU",
        "outputId": "5d60109a-af9b-4012-eb10-44c5dfd9546d"
      },
      "outputs": [
        {
          "output_type": "execute_result",
          "data": {
            "text/plain": [
              "8584.02129032258"
            ]
          },
          "metadata": {},
          "execution_count": 31
        }
      ],
      "source": [
        "(np.sum((y - np.mean(y)) ** 2))"
      ]
    },
    {
      "cell_type": "code",
      "execution_count": null,
      "metadata": {
        "colab": {
          "base_uri": "https://localhost:8080/"
        },
        "id": "g4NidBqqS3GT",
        "outputId": "3d61a3ae-91e8-4722-d566-ea6035779695"
      },
      "outputs": [
        {
          "output_type": "execute_result",
          "data": {
            "text/plain": [
              "0.630120559691915"
            ]
          },
          "metadata": {},
          "execution_count": 32
        }
      ],
      "source": [
        "r_squared"
      ]
    },
    {
      "cell_type": "markdown",
      "source": [
        "## Доверительные интервалы для параметров"
      ],
      "metadata": {
        "id": "A9urLCEXtpYq"
      }
    },
    {
      "cell_type": "markdown",
      "metadata": {
        "id": "z_XBD_j1Xote"
      },
      "source": [
        "Построим доверительные интервалы для параметров модели"
      ]
    },
    {
      "cell_type": "code",
      "execution_count": null,
      "metadata": {
        "id": "vgP9oS76YGYm"
      },
      "outputs": [],
      "source": [
        "se_beta = np.sqrt(np.diag(residuals * np.linalg.inv(x.T @ x)))\n",
        "alpha = 0.05\n",
        "t_crit = scipy.stats.t.ppf(1 - alpha/2, df=n - k)\n",
        "\n",
        "conf_intervals = np.array([\n",
        "    beta - t_crit * se_beta,\n",
        "    beta + t_crit * se_beta\n",
        "]).T"
      ]
    },
    {
      "cell_type": "code",
      "execution_count": null,
      "metadata": {
        "colab": {
          "base_uri": "https://localhost:8080/"
        },
        "id": "43GFNfiCaSfk",
        "outputId": "6aa29ad3-3623-4ea4-c9ba-3ba078509adb"
      },
      "outputs": [
        {
          "output_type": "execute_result",
          "data": {
            "text/plain": [
              "array([[-17.61452671,  19.51215472],\n",
              "       [  0.09255738,   0.16167132],\n",
              "       [ -0.5068626 ,   0.89640714],\n",
              "       [ -0.52131866,   0.25595394]])"
            ]
          },
          "metadata": {},
          "execution_count": 34
        }
      ],
      "source": [
        "conf_intervals"
      ]
    },
    {
      "cell_type": "markdown",
      "metadata": {
        "id": "wxC1qVQbaYRR"
      },
      "source": [
        "Построим доверительный интервал для достаточной дисперсии"
      ]
    },
    {
      "cell_type": "code",
      "execution_count": null,
      "metadata": {
        "id": "VzDrqLxUah5I"
      },
      "outputs": [],
      "source": [
        "chi2_lower = scipy.stats.chi2.ppf(alpha/2, df=n - k)\n",
        "chi2_upper = scipy.stats.chi2.ppf(1 - alpha/2, df=n - k)\n",
        "conf_interval_residuals = [\n",
        "    (n - k) * residuals / chi2_upper,\n",
        "    (n - k) * residuals / chi2_lower\n",
        "]"
      ]
    },
    {
      "cell_type": "code",
      "execution_count": null,
      "metadata": {
        "colab": {
          "base_uri": "https://localhost:8080/"
        },
        "id": "HTouOHLDaW5L",
        "outputId": "3e33cd63-13fa-4710-9601-4d548305f376"
      },
      "outputs": [
        {
          "output_type": "execute_result",
          "data": {
            "text/plain": [
              "[27.139738194746734, 49.002751480712206]"
            ]
          },
          "metadata": {},
          "execution_count": 36
        }
      ],
      "source": [
        "conf_interval_residuals"
      ]
    },
    {
      "cell_type": "markdown",
      "metadata": {
        "id": "OejG6tGvawpJ"
      },
      "source": [
        "##Проверка гипотез"
      ]
    },
    {
      "cell_type": "markdown",
      "metadata": {
        "id": "xATH8sFobBqE"
      },
      "source": [
        "### Чем больше мощность, тем меньше цена."
      ]
    },
    {
      "cell_type": "markdown",
      "source": [
        "$H_0$: Коэффициент $c_k$ = 0 (коэффициент при мощности равен нулю).\n",
        "\n",
        "$H_1$: Коэффициент $c_k$ < 0 (коэффициент при мощности меньше нуля)."
      ],
      "metadata": {
        "id": "acl2mKPKGh2j"
      }
    },
    {
      "cell_type": "code",
      "execution_count": null,
      "metadata": {
        "id": "7fwQaWDQbTfM"
      },
      "outputs": [],
      "source": [
        "t_stat_beta1 = beta[1] / se_beta[1]\n",
        "p_value_beta1 = scipy.stats.t.cdf(t_stat_beta1, df=n - k)"
      ]
    },
    {
      "cell_type": "code",
      "execution_count": null,
      "metadata": {
        "colab": {
          "base_uri": "https://localhost:8080/"
        },
        "id": "pm2ycmqybaG3",
        "outputId": "979b8470-28ef-4071-9fbc-0c87a75f0b68"
      },
      "outputs": [
        {
          "output_type": "execute_result",
          "data": {
            "text/plain": [
              "7.308902076822737"
            ]
          },
          "metadata": {},
          "execution_count": 38
        }
      ],
      "source": [
        "t_stat_beta1"
      ]
    },
    {
      "cell_type": "code",
      "execution_count": null,
      "metadata": {
        "colab": {
          "base_uri": "https://localhost:8080/"
        },
        "id": "D87QSgvObdkR",
        "outputId": "55ecaa36-a81f-4072-a3d0-6cbda2d62046"
      },
      "outputs": [
        {
          "output_type": "execute_result",
          "data": {
            "text/plain": [
              "0.9999999999445062"
            ]
          },
          "metadata": {},
          "execution_count": 39
        }
      ],
      "source": [
        "p_value_beta1"
      ]
    },
    {
      "cell_type": "markdown",
      "source": [
        "Гипотеза не опровергнута."
      ],
      "metadata": {
        "id": "ogog7YKDspzR"
      }
    },
    {
      "cell_type": "markdown",
      "metadata": {
        "id": "vn4XmfLqb0N7"
      },
      "source": [
        "### Цена зависит от расхода топлива в городе."
      ]
    },
    {
      "cell_type": "markdown",
      "source": [
        "$H_0$: $c_k = 0$ (коэффициент при расходе топлива в городе равен нулю).\n",
        "\n",
        "$H_1$: $c_k \\ne 0$ (коэффициент при расходе топлива в городе не равен нулю)."
      ],
      "metadata": {
        "id": "1fXRWSVbGbM5"
      }
    },
    {
      "cell_type": "code",
      "execution_count": null,
      "metadata": {
        "id": "jT3vp2pTbzkn"
      },
      "outputs": [],
      "source": [
        "t_stat_beta3 = beta[3] / se_beta[3]\n",
        "p_value_beta3 = 2 * (1 - scipy.stats.t.cdf(np.abs(t_stat_beta3), df=n - k))"
      ]
    },
    {
      "cell_type": "code",
      "execution_count": null,
      "metadata": {
        "id": "Sk469HEpcdxN",
        "colab": {
          "base_uri": "https://localhost:8080/"
        },
        "outputId": "daaf90c8-3d5f-4bae-b829-38cfbf80c41a"
      },
      "outputs": [
        {
          "output_type": "execute_result",
          "data": {
            "text/plain": [
              "-0.6783643693727525"
            ]
          },
          "metadata": {},
          "execution_count": 41
        }
      ],
      "source": [
        "t_stat_beta3"
      ]
    },
    {
      "cell_type": "code",
      "execution_count": null,
      "metadata": {
        "colab": {
          "base_uri": "https://localhost:8080/"
        },
        "id": "5eC_qpLGcg2X",
        "outputId": "68d4f951-0861-4286-c03e-126d930b616e"
      },
      "outputs": [
        {
          "output_type": "execute_result",
          "data": {
            "text/plain": [
              "0.49930073341163084"
            ]
          },
          "metadata": {},
          "execution_count": 42
        }
      ],
      "source": [
        "p_value_beta3"
      ]
    },
    {
      "cell_type": "markdown",
      "source": [
        "Гипотеза не опровергнута."
      ],
      "metadata": {
        "id": "CTKGyAn8swXH"
      }
    },
    {
      "cell_type": "markdown",
      "metadata": {
        "id": "FA3SAhNXb31K"
      },
      "source": [
        "###Цена одновременно зависит от расхода топлива и емкости бензобака."
      ]
    },
    {
      "cell_type": "markdown",
      "source": [
        "$H_0$: Все коэффициенты модели равны 0.\n",
        "\n",
        "$H_1$: Один или более из коэффициентов модели не равен 0."
      ],
      "metadata": {
        "id": "KKcc9If9F08g"
      }
    },
    {
      "cell_type": "code",
      "source": [
        "f_stat = ((np.sum((y - np.mean(y)) ** 2) - np.sum(residuals ** 2)) / 2) / (np.sum(residuals ** 2) / (n - k))\n",
        "p_value_f = 1 - scipy.stats.f.cdf(f_stat, dfn=2, dfd=n - k)"
      ],
      "metadata": {
        "id": "u6QEaoJesy7b"
      },
      "execution_count": null,
      "outputs": []
    },
    {
      "cell_type": "code",
      "source": [
        "p_value_f"
      ],
      "metadata": {
        "colab": {
          "base_uri": "https://localhost:8080/"
        },
        "id": "_3KEGux_uIqH",
        "outputId": "890241ae-8a7b-4a42-a77e-cf932d188d98"
      },
      "execution_count": null,
      "outputs": [
        {
          "output_type": "execute_result",
          "data": {
            "text/plain": [
              "1.1102230246251565e-16"
            ]
          },
          "metadata": {},
          "execution_count": 44
        }
      ]
    },
    {
      "cell_type": "markdown",
      "source": [
        "Гипотеза опровергнута."
      ],
      "metadata": {
        "id": "0TigrmVyuvHz"
      }
    }
  ],
  "metadata": {
    "colab": {
      "provenance": []
    },
    "kernelspec": {
      "display_name": "Python 3",
      "name": "python3"
    },
    "language_info": {
      "name": "python"
    }
  },
  "nbformat": 4,
  "nbformat_minor": 0
}